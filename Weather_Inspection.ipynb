{
  "nbformat": 4,
  "nbformat_minor": 0,
  "metadata": {
    "colab": {
      "name": "Weather Inspection.ipynb",
      "provenance": [],
      "collapsed_sections": [],
      "authorship_tag": "ABX9TyMZ4EFJidSJToTZBC7zir4H",
      "include_colab_link": true
    },
    "kernelspec": {
      "name": "python3",
      "display_name": "Python 3"
    }
  },
  "cells": [
    {
      "cell_type": "markdown",
      "metadata": {
        "id": "view-in-github",
        "colab_type": "text"
      },
      "source": [
        "<a href=\"https://colab.research.google.com/github/MattIzon/16010269_DataAnalytics/blob/main/Weather_Inspection.ipynb\" target=\"_parent\"><img src=\"https://colab.research.google.com/assets/colab-badge.svg\" alt=\"Open In Colab\"/></a>"
      ]
    },
    {
      "cell_type": "code",
      "metadata": {
        "colab": {
          "base_uri": "https://localhost:8080/"
        },
        "id": "d8Z2-nncOdZS",
        "outputId": "e1b084d7-26ab-4430-e669-36fd67e23e96"
      },
      "source": [
        "# Set-up\n",
        "from google.colab import auth, files\n",
        "auth.authenticate_user()\n",
        "print('Authenticated')\n",
        "\n",
        "from google.cloud import bigquery\n",
        "import pandas as pd\n",
        "pd.set_option('display.max_columns', None)"
      ],
      "execution_count": 1,
      "outputs": [
        {
          "output_type": "stream",
          "name": "stdout",
          "text": [
            "Authenticated\n"
          ]
        }
      ]
    },
    {
      "cell_type": "code",
      "metadata": {
        "id": "VwLOW_pd6yKA"
      },
      "source": [
        "# Get weather data\n",
        "\n",
        "client = bigquery.Client(project='assignment-305921')\n",
        "\n",
        "weather = []\n",
        "\n",
        "for year in range(2015, 2020):\n",
        "  weather.append(client.query('''\n",
        "  SELECT stn,\tmo,\ttemp,\tdewp,\tslp, stp, visib, wdsp, mxpsd, gust, max, min, prcp, sndp, fog, rain_drizzle, snow_ice_pellets, hail, thunder, tornado_funnel_cloud,\n",
        "  cast(CONCAT(`bigquery-public-data.noaa_gsod.gsod{0}`.year, \"-\", `bigquery-public-data.noaa_gsod.gsod{0}`.mo, \"-\", `bigquery-public-data.noaa_gsod.gsod{0}`.da)as DATE) as date\n",
        "  FROM `bigquery-public-data.noaa_gsod.gsod{0}`\n",
        "  WHERE (stn = '722126' AND wban = '04879') or (stn = '725300' AND wban = '94846') or (stn = '725340' AND wban = '14819')\n",
        "  ORDER BY date\n",
        "  '''.format(year)).to_dataframe())"
      ],
      "execution_count": 3,
      "outputs": []
    },
    {
      "cell_type": "code",
      "metadata": {
        "id": "NAiCCW6JGLYY",
        "colab": {
          "base_uri": "https://localhost:8080/"
        },
        "outputId": "053bcf07-e617-47b6-bf7b-f6476827f903"
      },
      "source": [
        "# Count data from each station in each year to confirm data for every day for 3 chosen stations\n",
        "\n",
        "stns = ['722126', '725300', '725340']\n",
        "for index in range(len(weather)):\n",
        "  print(2015 + index)\n",
        "  for stn in stns:\n",
        "    print(stn, weather[index].loc[weather[index]['stn']==stn, 'stn'].agg(['count']).to_string())\n",
        "  print('-----')"
      ],
      "execution_count": 4,
      "outputs": [
        {
          "output_type": "stream",
          "name": "stdout",
          "text": [
            "2015\n",
            "722126 count    365\n",
            "725300 count    365\n",
            "725340 count    365\n",
            "-----\n",
            "2016\n",
            "722126 count    366\n",
            "725300 count    366\n",
            "725340 count    366\n",
            "-----\n",
            "2017\n",
            "722126 count    365\n",
            "725300 count    365\n",
            "725340 count    365\n",
            "-----\n",
            "2018\n",
            "722126 count    365\n",
            "725300 count    365\n",
            "725340 count    365\n",
            "-----\n",
            "2019\n",
            "722126 count    365\n",
            "725300 count    365\n",
            "725340 count    365\n",
            "-----\n"
          ]
        }
      ]
    },
    {
      "cell_type": "code",
      "source": [
        "# Check for missing data\n",
        "index = 0\n",
        "for year in weather:\n",
        "  print('Missing Data ', 2015 + index, ':')\n",
        "  for column in year:\n",
        "    print('  ', column, ': ', year[column].isna().any())\n",
        "  index += 1\n",
        "  print()"
      ],
      "metadata": {
        "colab": {
          "base_uri": "https://localhost:8080/"
        },
        "id": "vE5oEnDA-_Gf",
        "outputId": "758604f6-eae3-40eb-cbbd-5a941a130a7b"
      },
      "execution_count": 5,
      "outputs": [
        {
          "output_type": "stream",
          "name": "stdout",
          "text": [
            "Missing Data  2015 :\n",
            "   stn :  False\n",
            "   mo :  False\n",
            "   temp :  False\n",
            "   dewp :  False\n",
            "   slp :  False\n",
            "   stp :  False\n",
            "   visib :  False\n",
            "   wdsp :  False\n",
            "   mxpsd :  False\n",
            "   gust :  False\n",
            "   max :  False\n",
            "   min :  False\n",
            "   prcp :  False\n",
            "   sndp :  False\n",
            "   fog :  False\n",
            "   rain_drizzle :  False\n",
            "   snow_ice_pellets :  False\n",
            "   hail :  False\n",
            "   thunder :  False\n",
            "   tornado_funnel_cloud :  False\n",
            "   date :  False\n",
            "\n",
            "Missing Data  2016 :\n",
            "   stn :  False\n",
            "   mo :  False\n",
            "   temp :  False\n",
            "   dewp :  False\n",
            "   slp :  False\n",
            "   stp :  False\n",
            "   visib :  False\n",
            "   wdsp :  False\n",
            "   mxpsd :  False\n",
            "   gust :  False\n",
            "   max :  False\n",
            "   min :  False\n",
            "   prcp :  False\n",
            "   sndp :  False\n",
            "   fog :  False\n",
            "   rain_drizzle :  False\n",
            "   snow_ice_pellets :  False\n",
            "   hail :  False\n",
            "   thunder :  False\n",
            "   tornado_funnel_cloud :  False\n",
            "   date :  False\n",
            "\n",
            "Missing Data  2017 :\n",
            "   stn :  False\n",
            "   mo :  False\n",
            "   temp :  False\n",
            "   dewp :  False\n",
            "   slp :  False\n",
            "   stp :  False\n",
            "   visib :  False\n",
            "   wdsp :  False\n",
            "   mxpsd :  False\n",
            "   gust :  False\n",
            "   max :  False\n",
            "   min :  False\n",
            "   prcp :  False\n",
            "   sndp :  False\n",
            "   fog :  False\n",
            "   rain_drizzle :  False\n",
            "   snow_ice_pellets :  False\n",
            "   hail :  False\n",
            "   thunder :  False\n",
            "   tornado_funnel_cloud :  False\n",
            "   date :  False\n",
            "\n",
            "Missing Data  2018 :\n",
            "   stn :  False\n",
            "   mo :  False\n",
            "   temp :  False\n",
            "   dewp :  False\n",
            "   slp :  False\n",
            "   stp :  False\n",
            "   visib :  False\n",
            "   wdsp :  False\n",
            "   mxpsd :  False\n",
            "   gust :  False\n",
            "   max :  False\n",
            "   min :  False\n",
            "   prcp :  False\n",
            "   sndp :  False\n",
            "   fog :  False\n",
            "   rain_drizzle :  False\n",
            "   snow_ice_pellets :  False\n",
            "   hail :  False\n",
            "   thunder :  False\n",
            "   tornado_funnel_cloud :  False\n",
            "   date :  False\n",
            "\n",
            "Missing Data  2019 :\n",
            "   stn :  False\n",
            "   mo :  False\n",
            "   temp :  False\n",
            "   dewp :  False\n",
            "   slp :  False\n",
            "   stp :  False\n",
            "   visib :  False\n",
            "   wdsp :  False\n",
            "   mxpsd :  False\n",
            "   gust :  False\n",
            "   max :  False\n",
            "   min :  False\n",
            "   prcp :  False\n",
            "   sndp :  False\n",
            "   fog :  False\n",
            "   rain_drizzle :  False\n",
            "   snow_ice_pellets :  False\n",
            "   hail :  False\n",
            "   thunder :  False\n",
            "   tornado_funnel_cloud :  False\n",
            "   date :  False\n",
            "\n"
          ]
        }
      ]
    },
    {
      "cell_type": "markdown",
      "source": [
        "# Fill / Fix Continuous Data Columns\n"
      ],
      "metadata": {
        "id": "fa12JLTJG6LI"
      }
    },
    {
      "cell_type": "code",
      "source": [
        "# Values that represent missing entries in the gsod data\n",
        "\n",
        "missing_values = {\n",
        "'temp': 9999.9,\n",
        "'dewp': 9999.9,\n",
        "'slp': 9999.9,\n",
        "'stp': 9999.9,\n",
        "'visib': 999.9,\n",
        "'wdsp': 999.9,\n",
        "'mxpsd': 999.9,\n",
        "'gust': 999.9,\n",
        "'max': 9999.9,\n",
        "'min': 9999.9,\n",
        "'prcp': 99.99,\n",
        "'sndp': 999.9}"
      ],
      "metadata": {
        "id": "Qbr9g_JTyMLB"
      },
      "execution_count": 9,
      "outputs": []
    },
    {
      "cell_type": "code",
      "source": [
        "# Create a Dataframe of the continuous columns and date\n",
        "cols = list(missing_values.keys())\n",
        "cols.append('date')\n",
        "continuous = []\n",
        "\n",
        "for year in weather:\n",
        "  continuous.append(year[cols])\n"
      ],
      "metadata": {
        "id": "QF6PMiItrD2J"
      },
      "execution_count": 10,
      "outputs": []
    },
    {
      "cell_type": "code",
      "source": [
        "# Check how many instances of missing values\n",
        "\n",
        "index = 0\n",
        "for year in continuous:\n",
        "  print(2015 + index)\n",
        "  for col in missing_values:\n",
        "    print(col + f': {len(year[year[col] == missing_values[col]])}' )\n",
        "  print()\n",
        "  index += 1"
      ],
      "metadata": {
        "colab": {
          "base_uri": "https://localhost:8080/"
        },
        "id": "BOlNUjGhrKQu",
        "outputId": "03ff764a-70f9-4beb-dfcb-1d3b2471c33c"
      },
      "execution_count": 11,
      "outputs": [
        {
          "output_type": "stream",
          "name": "stdout",
          "text": [
            "2015\n",
            "temp: 0\n",
            "dewp: 0\n",
            "slp: 365\n",
            "stp: 4\n",
            "visib: 0\n",
            "wdsp: 0\n",
            "mxpsd: 0\n",
            "gust: 318\n",
            "max: 1\n",
            "min: 1\n",
            "prcp: 50\n",
            "sndp: 955\n",
            "\n",
            "2016\n",
            "temp: 0\n",
            "dewp: 0\n",
            "slp: 366\n",
            "stp: 7\n",
            "visib: 0\n",
            "wdsp: 0\n",
            "mxpsd: 0\n",
            "gust: 326\n",
            "max: 3\n",
            "min: 0\n",
            "prcp: 75\n",
            "sndp: 996\n",
            "\n",
            "2017\n",
            "temp: 0\n",
            "dewp: 0\n",
            "slp: 365\n",
            "stp: 1\n",
            "visib: 0\n",
            "wdsp: 0\n",
            "mxpsd: 0\n",
            "gust: 287\n",
            "max: 0\n",
            "min: 0\n",
            "prcp: 61\n",
            "sndp: 1061\n",
            "\n",
            "2018\n",
            "temp: 0\n",
            "dewp: 0\n",
            "slp: 365\n",
            "stp: 3\n",
            "visib: 0\n",
            "wdsp: 0\n",
            "mxpsd: 0\n",
            "gust: 331\n",
            "max: 0\n",
            "min: 0\n",
            "prcp: 72\n",
            "sndp: 1008\n",
            "\n",
            "2019\n",
            "temp: 0\n",
            "dewp: 0\n",
            "slp: 365\n",
            "stp: 0\n",
            "visib: 0\n",
            "wdsp: 0\n",
            "mxpsd: 0\n",
            "gust: 225\n",
            "max: 0\n",
            "min: 0\n",
            "prcp: 65\n",
            "sndp: 997\n",
            "\n"
          ]
        }
      ]
    },
    {
      "cell_type": "code",
      "source": [
        "# wdsp and mxpsd are being removed during the averaging process.\n",
        "# I suspect the columns have typing issues\n",
        "\n",
        "index = 0\n",
        "for year in continuous:\n",
        "  print(2015 + index)\n",
        "  print(year.dtypes)\n",
        "  print()\n",
        "  index += 1\n",
        "\n",
        "for year in continuous:\n",
        "  year['wdsp'] = pd.to_numeric(year['wdsp'])\n",
        "  year['mxpsd'] = pd.to_numeric(year['mxpsd'])\n",
        "\n",
        "print()\n",
        "index = 0\n",
        "for year in continuous:\n",
        "  print(2015 + index)\n",
        "  print(year[['wdsp', 'mxpsd']].dtypes)\n",
        "  print()\n",
        "  index += 1\n",
        "\n"
      ],
      "metadata": {
        "colab": {
          "base_uri": "https://localhost:8080/"
        },
        "id": "LxK1Za9krPmS",
        "outputId": "ce8d360e-cd25-443e-86b2-660ccd829605"
      },
      "execution_count": 12,
      "outputs": [
        {
          "output_type": "stream",
          "name": "stdout",
          "text": [
            "2015\n",
            "temp     float64\n",
            "dewp     float64\n",
            "slp      float64\n",
            "stp      float64\n",
            "visib    float64\n",
            "wdsp      object\n",
            "mxpsd     object\n",
            "gust     float64\n",
            "max      float64\n",
            "min      float64\n",
            "prcp     float64\n",
            "sndp     float64\n",
            "date      object\n",
            "dtype: object\n",
            "\n",
            "2016\n",
            "temp     float64\n",
            "dewp     float64\n",
            "slp      float64\n",
            "stp      float64\n",
            "visib    float64\n",
            "wdsp      object\n",
            "mxpsd     object\n",
            "gust     float64\n",
            "max      float64\n",
            "min      float64\n",
            "prcp     float64\n",
            "sndp     float64\n",
            "date      object\n",
            "dtype: object\n",
            "\n",
            "2017\n",
            "temp     float64\n",
            "dewp     float64\n",
            "slp      float64\n",
            "stp      float64\n",
            "visib    float64\n",
            "wdsp      object\n",
            "mxpsd     object\n",
            "gust     float64\n",
            "max      float64\n",
            "min      float64\n",
            "prcp     float64\n",
            "sndp     float64\n",
            "date      object\n",
            "dtype: object\n",
            "\n",
            "2018\n",
            "temp     float64\n",
            "dewp     float64\n",
            "slp      float64\n",
            "stp      float64\n",
            "visib    float64\n",
            "wdsp      object\n",
            "mxpsd     object\n",
            "gust     float64\n",
            "max      float64\n",
            "min      float64\n",
            "prcp     float64\n",
            "sndp     float64\n",
            "date      object\n",
            "dtype: object\n",
            "\n",
            "2019\n",
            "temp     float64\n",
            "dewp     float64\n",
            "slp      float64\n",
            "stp      float64\n",
            "visib    float64\n",
            "wdsp      object\n",
            "mxpsd     object\n",
            "gust     float64\n",
            "max      float64\n",
            "min      float64\n",
            "prcp     float64\n",
            "sndp     float64\n",
            "date      object\n",
            "dtype: object\n",
            "\n",
            "\n",
            "2015\n",
            "wdsp     float64\n",
            "mxpsd    float64\n",
            "dtype: object\n",
            "\n",
            "2016\n",
            "wdsp     float64\n",
            "mxpsd    float64\n",
            "dtype: object\n",
            "\n",
            "2017\n",
            "wdsp     float64\n",
            "mxpsd    float64\n",
            "dtype: object\n",
            "\n",
            "2018\n",
            "wdsp     float64\n",
            "mxpsd    float64\n",
            "dtype: object\n",
            "\n",
            "2019\n",
            "wdsp     float64\n",
            "mxpsd    float64\n",
            "dtype: object\n",
            "\n"
          ]
        },
        {
          "output_type": "stream",
          "name": "stderr",
          "text": [
            "/usr/local/lib/python3.7/dist-packages/ipykernel_launcher.py:12: SettingWithCopyWarning: \n",
            "A value is trying to be set on a copy of a slice from a DataFrame.\n",
            "Try using .loc[row_indexer,col_indexer] = value instead\n",
            "\n",
            "See the caveats in the documentation: https://pandas.pydata.org/pandas-docs/stable/user_guide/indexing.html#returning-a-view-versus-a-copy\n",
            "  if sys.path[0] == '':\n",
            "/usr/local/lib/python3.7/dist-packages/ipykernel_launcher.py:13: SettingWithCopyWarning: \n",
            "A value is trying to be set on a copy of a slice from a DataFrame.\n",
            "Try using .loc[row_indexer,col_indexer] = value instead\n",
            "\n",
            "See the caveats in the documentation: https://pandas.pydata.org/pandas-docs/stable/user_guide/indexing.html#returning-a-view-versus-a-copy\n",
            "  del sys.path[0]\n"
          ]
        }
      ]
    },
    {
      "cell_type": "code",
      "source": [
        "# Replace missing value figures with NaN so that I can average the values for a more complete dataset\n",
        "\n",
        "import numpy as np\n",
        "\n",
        "cont_corrected = []\n",
        "for year in continuous:\n",
        "  for col in missing_values:\n",
        "    year[col] = year[col].replace([missing_values[col]], np.NaN)\n",
        "  cont_corrected.append(year.groupby('date', as_index=False).mean())"
      ],
      "metadata": {
        "colab": {
          "base_uri": "https://localhost:8080/"
        },
        "id": "FLDUV7CGrUXz",
        "outputId": "28cf7718-7c91-4759-e5a9-308afa468e63"
      },
      "execution_count": 15,
      "outputs": [
        {
          "output_type": "stream",
          "name": "stderr",
          "text": [
            "/usr/local/lib/python3.7/dist-packages/ipykernel_launcher.py:8: SettingWithCopyWarning: \n",
            "A value is trying to be set on a copy of a slice from a DataFrame.\n",
            "Try using .loc[row_indexer,col_indexer] = value instead\n",
            "\n",
            "See the caveats in the documentation: https://pandas.pydata.org/pandas-docs/stable/user_guide/indexing.html#returning-a-view-versus-a-copy\n",
            "  \n"
          ]
        }
      ]
    },
    {
      "cell_type": "code",
      "source": [
        "# Re-check how many instances of missing values\n",
        "\n",
        "index = 0\n",
        "for year in cont_corrected:\n",
        "  print(2015 + index)\n",
        "  for column in year:\n",
        "    print(column, ': ', year[column].isna().sum())\n",
        "  print()\n",
        "  index += 1"
      ],
      "metadata": {
        "colab": {
          "base_uri": "https://localhost:8080/"
        },
        "id": "fPcwocAF29OS",
        "outputId": "c3fdddcc-7c80-4b96-ea01-e60acb51ef3a"
      },
      "execution_count": 16,
      "outputs": [
        {
          "output_type": "stream",
          "name": "stdout",
          "text": [
            "2015\n",
            "date :  0\n",
            "temp :  0\n",
            "dewp :  0\n",
            "slp :  0\n",
            "stp :  0\n",
            "visib :  0\n",
            "wdsp :  0\n",
            "mxpsd :  0\n",
            "gust :  56\n",
            "max :  0\n",
            "min :  0\n",
            "prcp :  0\n",
            "sndp :  289\n",
            "\n",
            "2016\n",
            "date :  0\n",
            "temp :  0\n",
            "dewp :  0\n",
            "slp :  0\n",
            "stp :  0\n",
            "visib :  0\n",
            "wdsp :  0\n",
            "mxpsd :  0\n",
            "gust :  51\n",
            "max :  0\n",
            "min :  0\n",
            "prcp :  0\n",
            "sndp :  310\n",
            "\n",
            "2017\n",
            "date :  0\n",
            "temp :  0\n",
            "dewp :  0\n",
            "slp :  0\n",
            "stp :  0\n",
            "visib :  0\n",
            "wdsp :  0\n",
            "mxpsd :  0\n",
            "gust :  44\n",
            "max :  0\n",
            "min :  0\n",
            "prcp :  0\n",
            "sndp :  346\n",
            "\n",
            "2018\n",
            "date :  0\n",
            "temp :  0\n",
            "dewp :  0\n",
            "slp :  0\n",
            "stp :  0\n",
            "visib :  0\n",
            "wdsp :  0\n",
            "mxpsd :  0\n",
            "gust :  61\n",
            "max :  0\n",
            "min :  0\n",
            "prcp :  0\n",
            "sndp :  316\n",
            "\n",
            "2019\n",
            "date :  0\n",
            "temp :  0\n",
            "dewp :  0\n",
            "slp :  0\n",
            "stp :  0\n",
            "visib :  0\n",
            "wdsp :  0\n",
            "mxpsd :  0\n",
            "gust :  42\n",
            "max :  0\n",
            "min :  0\n",
            "prcp :  0\n",
            "sndp :  312\n",
            "\n"
          ]
        }
      ]
    },
    {
      "cell_type": "code",
      "source": [
        "# I think no reported snow is reasonable to assume there was no snow.\n",
        "# I've set the sndp to zero on these occasions\n",
        "for year in cont_corrected:\n",
        "  year['sndp'] = year['sndp'].replace([np.NaN], 0)\n",
        "  year.plot(x = 'date', y = 'sndp', kind = 'scatter')"
      ],
      "metadata": {
        "id": "DeFWYsJbyvG0",
        "colab": {
          "base_uri": "https://localhost:8080/",
          "height": 1000
        },
        "outputId": "ab7e43b1-501d-4baf-a573-e42304aa2bc5"
      },
      "execution_count": 18,
      "outputs": [
        {
          "output_type": "display_data",
          "data": {
            "text/plain": [
              "<Figure size 432x288 with 1 Axes>"
            ],
            "image/png": "[encoded data removed]"
          },
          "metadata": {
            "needs_background": "light"
          }
        },
        {
          "output_type": "display_data",
          "data": {
            "text/plain": [
              "<Figure size 432x288 with 1 Axes>"
            ],
            "image/png": "[encoded data removed]"
          },
          "metadata": {
            "needs_background": "light"
          }
        },
        {
          "output_type": "display_data",
          "data": {
            "text/plain": [
              "<Figure size 432x288 with 1 Axes>"
            ],
            "image/png": "[encoded data removed]"
          },
          "metadata": {
            "needs_background": "light"
          }
        },
        {
          "output_type": "display_data",
          "data": {
            "text/plain": [
              "<Figure size 432x288 with 1 Axes>"
            ],
            "image/png": "[encoded data removed]"
          },
          "metadata": {
            "needs_background": "light"
          }
        },
        {
          "output_type": "display_data",
          "data": {
            "text/plain": [
              "<Figure size 432x288 with 1 Axes>"
            ],
            "image/png": "[encoded data removed]"
          },
          "metadata": {
            "needs_background": "light"
          }
        }
      ]
    },
    {
      "cell_type": "code",
      "metadata": {
        "id": "3sBsh4ETuBnh"
      },
      "source": [
        "# Save weather data to CSV files.\n",
        "\n",
        "names = ['weather_2015', 'weather_2016', 'weather_2017', 'weather_2018', 'weather_2019']\n",
        "\n",
        "for index in range(len(names)):\n",
        "  with open('/gdrive/My Drive/{}.csv'.format(names[index]), 'w') as f:\n",
        "    weather[index].to_csv(f)"
      ],
      "execution_count": null,
      "outputs": []
    },
    {
      "cell_type": "code",
      "source": [
        "# Create a Dataframe of the discrete columns and date\n",
        "\n",
        "d_cols = ['fog', 'rain_drizzle', 'snow_ice_pellets', 'hail', 'thunder', 'tornado_funnel_cloud', 'date']\n",
        "discrete = []\n",
        "\n",
        "for year in weather:\n",
        "  discrete.append(year[d_cols])"
      ],
      "metadata": {
        "id": "fWXNeaMZKefK"
      },
      "execution_count": 45,
      "outputs": []
    },
    {
      "cell_type": "code",
      "source": [
        "# Convert column types for average\n",
        "\n",
        "for year in discrete:\n",
        "  cols = d_cols.copy()\n",
        "  cols.remove('date')\n",
        "  for col in cols:\n",
        "    year[col] = pd.to_numeric(year[col])"
      ],
      "metadata": {
        "colab": {
          "base_uri": "https://localhost:8080/"
        },
        "id": "FKWI94V3Q8eC",
        "outputId": "2b3274ee-4e3f-41c9-b1b4-519b01d9c7e1"
      },
      "execution_count": 46,
      "outputs": [
        {
          "output_type": "stream",
          "name": "stderr",
          "text": [
            "/usr/local/lib/python3.7/dist-packages/ipykernel_launcher.py:7: SettingWithCopyWarning: \n",
            "A value is trying to be set on a copy of a slice from a DataFrame.\n",
            "Try using .loc[row_indexer,col_indexer] = value instead\n",
            "\n",
            "See the caveats in the documentation: https://pandas.pydata.org/pandas-docs/stable/user_guide/indexing.html#returning-a-view-versus-a-copy\n",
            "  import sys\n"
          ]
        }
      ]
    },
    {
      "cell_type": "code",
      "source": [
        "# Take average\n",
        "\n",
        "disc_corrected = []\n",
        "\n",
        "for year in discrete:\n",
        "  disc_corrected.append(year.groupby('date', as_index=False).mean())"
      ],
      "metadata": {
        "colab": {
          "base_uri": "https://localhost:8080/"
        },
        "id": "XTBK-LboMeWD",
        "outputId": "10bd195d-df76-4b1a-8ecb-de239e9bddda"
      },
      "execution_count": 50,
      "outputs": [
        {
          "output_type": "stream",
          "name": "stderr",
          "text": [
            "/usr/local/lib/python3.7/dist-packages/pandas/core/indexing.py:1817: SettingWithCopyWarning: \n",
            "A value is trying to be set on a copy of a slice from a DataFrame.\n",
            "Try using .loc[row_indexer,col_indexer] = value instead\n",
            "\n",
            "See the caveats in the documentation: https://pandas.pydata.org/pandas-docs/stable/user_guide/indexing.html#returning-a-view-versus-a-copy\n",
            "  self._setitem_single_column(loc, value, pi)\n"
          ]
        }
      ]
    },
    {
      "cell_type": "code",
      "source": [
        "# Return average to discrete value\n",
        "cols = d_cols.copy()\n",
        "cols.remove('date')\n",
        "\n",
        "for year in disc_corrected:\n",
        "  for col in cols:\n",
        "    year.loc[year[col] < 0.5, col] = 0\n",
        "    year.loc[year[col] > 0.5, col] = 1"
      ],
      "metadata": {
        "id": "Hb1LI2W2YbIP"
      },
      "execution_count": 51,
      "outputs": []
    }
  ]
}
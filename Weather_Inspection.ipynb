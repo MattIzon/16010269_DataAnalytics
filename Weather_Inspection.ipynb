{
  "nbformat": 4,
  "nbformat_minor": 0,
  "metadata": {
    "colab": {
      "name": "Weather Inspection.ipynb",
      "provenance": [],
      "collapsed_sections": [],
      "authorship_tag": "ABX9TyPEIpTyV/sHzBuEZTiPvNzX",
      "include_colab_link": true
    },
    "kernelspec": {
      "name": "python3",
      "display_name": "Python 3"
    }
  },
  "cells": [
    {
      "cell_type": "markdown",
      "metadata": {
        "id": "view-in-github",
        "colab_type": "text"
      },
      "source": [
        "<a href=\"https://colab.research.google.com/github/MattIzon/16010269_DataAnalytics/blob/main/Weather_Inspection.ipynb\" target=\"_parent\"><img src=\"https://colab.research.google.com/assets/colab-badge.svg\" alt=\"Open In Colab\"/></a>"
      ]
    },
    {
      "cell_type": "code",
      "metadata": {
        "colab": {
          "base_uri": "https://localhost:8080/"
        },
        "id": "d8Z2-nncOdZS",
        "outputId": "1e004d21-0162-48db-b454-4d45f05dff54"
      },
      "source": [
        "# Set-up\n",
        "from google.colab import auth, files\n",
        "auth.authenticate_user()\n",
        "print('Authenticated')\n",
        "\n",
        "from google.cloud import bigquery\n",
        "import pandas as pd\n",
        "pd.set_option('display.max_columns', None)"
      ],
      "execution_count": 1,
      "outputs": [
        {
          "output_type": "stream",
          "name": "stdout",
          "text": [
            "Authenticated\n"
          ]
        }
      ]
    },
    {
      "cell_type": "code",
      "metadata": {
        "id": "VwLOW_pd6yKA"
      },
      "source": [
        "# Get weather data\n",
        "\n",
        "client = bigquery.Client(project='assignment-305921')\n",
        "\n",
        "weather = []\n",
        "\n",
        "for year in range(2015, 2020):\n",
        "  weather.append(client.query('''\n",
        "  SELECT stn,\tmo,\ttemp,\tdewp,\tslp,\tstp,\tvisib,\twdsp,\tmxpsd,\tgust,\tmax,\tmin,\tprcp,\tsndp,\tfog,\train_drizzle,\tsnow_ice_pellets,\thail,\tthunder,\ttornado_funnel_cloud,\n",
        "  cast(CONCAT(`bigquery-public-data.noaa_gsod.gsod{0}`.year, \"-\", `bigquery-public-data.noaa_gsod.gsod{0}`.mo, \"-\", `bigquery-public-data.noaa_gsod.gsod{0}`.da)as DATE) as date\n",
        "  FROM `bigquery-public-data.noaa_gsod.gsod{0}`\n",
        "  WHERE (stn = '722126' AND wban = '04879') or (stn = '725300' AND wban = '94846') or (stn = '725340' AND wban = '14819')\n",
        "  ORDER BY date\n",
        "  '''.format(year)).to_dataframe())"
      ],
      "execution_count": 2,
      "outputs": []
    },
    {
      "cell_type": "code",
      "metadata": {
        "id": "NAiCCW6JGLYY",
        "colab": {
          "base_uri": "https://localhost:8080/"
        },
        "outputId": "d3004b88-120d-42da-fb74-72fe5aa22f50"
      },
      "source": [
        "# Count data from each station in each year to confirm data for every day for 3 chosen stations\n",
        "\n",
        "stns = ['722126', '725300', '725340']\n",
        "for index in range(len(weather)):\n",
        "  print(2015 + index)\n",
        "  for stn in stns:\n",
        "    print(stn, weather[index].loc[weather[index]['stn']==stn, 'stn'].agg(['count']).to_string())\n",
        "  print('-----')"
      ],
      "execution_count": null,
      "outputs": [
        {
          "output_type": "stream",
          "name": "stdout",
          "text": [
            "2015\n",
            "722126 count    365\n",
            "725300 count    365\n",
            "725340 count    365\n",
            "-----\n",
            "2016\n",
            "722126 count    366\n",
            "725300 count    366\n",
            "725340 count    366\n",
            "-----\n",
            "2017\n",
            "722126 count    365\n",
            "725300 count    365\n",
            "725340 count    365\n",
            "-----\n",
            "2018\n",
            "722126 count    365\n",
            "725300 count    365\n",
            "725340 count    365\n",
            "-----\n",
            "2019\n",
            "722126 count    365\n",
            "725300 count    365\n",
            "725340 count    365\n",
            "-----\n"
          ]
        }
      ]
    },
    {
      "cell_type": "code",
      "source": [
        "# Check for missing data\n",
        "index = 0\n",
        "for year in weather:\n",
        "  print('Missing Data ', 2015 + index, ':')\n",
        "  for column in year:\n",
        "    print('  ', column, ': ', year[column].isna().any())\n",
        "  index += 1\n",
        "  print()"
      ],
      "metadata": {
        "colab": {
          "base_uri": "https://localhost:8080/"
        },
        "id": "vE5oEnDA-_Gf",
        "outputId": "315dfc02-35b4-4bed-96e4-2ea85cc9af20"
      },
      "execution_count": 3,
      "outputs": [
        {
          "output_type": "stream",
          "name": "stdout",
          "text": [
            "Missing Data  2015 :\n",
            "   stn :  False\n",
            "   mo :  False\n",
            "   temp :  False\n",
            "   dewp :  False\n",
            "   slp :  False\n",
            "   stp :  False\n",
            "   visib :  False\n",
            "   wdsp :  False\n",
            "   mxpsd :  False\n",
            "   gust :  False\n",
            "   max :  False\n",
            "   min :  False\n",
            "   prcp :  False\n",
            "   sndp :  False\n",
            "   fog :  False\n",
            "   rain_drizzle :  False\n",
            "   snow_ice_pellets :  False\n",
            "   hail :  False\n",
            "   thunder :  False\n",
            "   tornado_funnel_cloud :  False\n",
            "   date :  False\n",
            "\n",
            "Missing Data  2016 :\n",
            "   stn :  False\n",
            "   mo :  False\n",
            "   temp :  False\n",
            "   dewp :  False\n",
            "   slp :  False\n",
            "   stp :  False\n",
            "   visib :  False\n",
            "   wdsp :  False\n",
            "   mxpsd :  False\n",
            "   gust :  False\n",
            "   max :  False\n",
            "   min :  False\n",
            "   prcp :  False\n",
            "   sndp :  False\n",
            "   fog :  False\n",
            "   rain_drizzle :  False\n",
            "   snow_ice_pellets :  False\n",
            "   hail :  False\n",
            "   thunder :  False\n",
            "   tornado_funnel_cloud :  False\n",
            "   date :  False\n",
            "\n",
            "Missing Data  2017 :\n",
            "   stn :  False\n",
            "   mo :  False\n",
            "   temp :  False\n",
            "   dewp :  False\n",
            "   slp :  False\n",
            "   stp :  False\n",
            "   visib :  False\n",
            "   wdsp :  False\n",
            "   mxpsd :  False\n",
            "   gust :  False\n",
            "   max :  False\n",
            "   min :  False\n",
            "   prcp :  False\n",
            "   sndp :  False\n",
            "   fog :  False\n",
            "   rain_drizzle :  False\n",
            "   snow_ice_pellets :  False\n",
            "   hail :  False\n",
            "   thunder :  False\n",
            "   tornado_funnel_cloud :  False\n",
            "   date :  False\n",
            "\n",
            "Missing Data  2018 :\n",
            "   stn :  False\n",
            "   mo :  False\n",
            "   temp :  False\n",
            "   dewp :  False\n",
            "   slp :  False\n",
            "   stp :  False\n",
            "   visib :  False\n",
            "   wdsp :  False\n",
            "   mxpsd :  False\n",
            "   gust :  False\n",
            "   max :  False\n",
            "   min :  False\n",
            "   prcp :  False\n",
            "   sndp :  False\n",
            "   fog :  False\n",
            "   rain_drizzle :  False\n",
            "   snow_ice_pellets :  False\n",
            "   hail :  False\n",
            "   thunder :  False\n",
            "   tornado_funnel_cloud :  False\n",
            "   date :  False\n",
            "\n",
            "Missing Data  2019 :\n",
            "   stn :  False\n",
            "   mo :  False\n",
            "   temp :  False\n",
            "   dewp :  False\n",
            "   slp :  False\n",
            "   stp :  False\n",
            "   visib :  False\n",
            "   wdsp :  False\n",
            "   mxpsd :  False\n",
            "   gust :  False\n",
            "   max :  False\n",
            "   min :  False\n",
            "   prcp :  False\n",
            "   sndp :  False\n",
            "   fog :  False\n",
            "   rain_drizzle :  False\n",
            "   snow_ice_pellets :  False\n",
            "   hail :  False\n",
            "   thunder :  False\n",
            "   tornado_funnel_cloud :  False\n",
            "   date :  False\n",
            "\n"
          ]
        }
      ]
    },
    {
      "cell_type": "code",
      "source": [
        "for year in weather:\n",
        "  year.plot(x = 'date', y = 'slp', kind = 'scatter')"
      ],
      "metadata": {
        "colab": {
          "base_uri": "https://localhost:8080/",
          "height": 1000
        },
        "id": "a2Wy1V71_inl",
        "outputId": "847ccf0a-cd7a-4108-c95c-052e480d37cb"
      },
      "execution_count": null,
      "outputs": [
        {
          "output_type": "display_data",
          "data": {
            "text/plain": [
              "<Figure size 432x288 with 1 Axes>"
            ],
            "image/png": "[encoded data removed]"
          },
          "metadata": {
            "needs_background": "light"
          }
        },
        {
          "output_type": "display_data",
          "data": {
            "text/plain": [
              "<Figure size 432x288 with 1 Axes>"
            ],
            "image/png": "[encoded data removed]"
          },
          "metadata": {
            "needs_background": "light"
          }
        },
        {
          "output_type": "display_data",
          "data": {
            "text/plain": [
              "<Figure size 432x288 with 1 Axes>"
            ],
            "image/png": "[encoded data removed]"
          },
          "metadata": {
            "needs_background": "light"
          }
        },
        {
          "output_type": "display_data",
          "data": {
            "text/plain": [
              "<Figure size 432x288 with 1 Axes>"
            ],
            "image/png": "[encoded data removed]"
          },
          "metadata": {
            "needs_background": "light"
          }
        },
        {
          "output_type": "display_data",
          "data": {
            "text/plain": [
              "<Figure size 432x288 with 1 Axes>"
            ],
            "image/png": "[encoded data removed]"
          },
          "metadata": {
            "needs_background": "light"
          }
        }
      ]
    },
    {
      "cell_type": "code",
      "source": [
        "df = weather[0]\n",
        "\n",
        "missing_values = {\n",
        "'temp': 9999.9,\n",
        "'dewp': 9999.9,\n",
        "'slp': 9999.9,\n",
        "'stp': 9999.9,\n",
        "'visib': 999.9,\n",
        "'wdsp': 999.9,\n",
        "'mxpsd': 999.9,\n",
        "'gust': 999.9,\n",
        "'max': 9999.9,\n",
        "'min': 9999.9,\n",
        "'prcp': 99.99,\n",
        "'sndp': 999.9}"
      ],
      "metadata": {
        "id": "Qbr9g_JTyMLB"
      },
      "execution_count": 20,
      "outputs": []
    },
    {
      "cell_type": "code",
      "source": [
        "cols = list(missing_values.keys())\n",
        "cols.append('date')\n",
        "df = df[cols]"
      ],
      "metadata": {
        "id": "QF6PMiItrD2J"
      },
      "execution_count": 21,
      "outputs": []
    },
    {
      "cell_type": "code",
      "source": [
        "# Missing value occurences\n",
        "for col in missing_values:\n",
        "  print(col + f': {len(df[df[col] == missing_values[col]])}' )\n",
        "  # print(df.groupby([col]).size().sort_values(ascending=False))"
      ],
      "metadata": {
        "colab": {
          "base_uri": "https://localhost:8080/"
        },
        "id": "BOlNUjGhrKQu",
        "outputId": "4dbff6e1-7b8e-4bbf-c9b5-a965eb411fb4"
      },
      "execution_count": 22,
      "outputs": [
        {
          "output_type": "stream",
          "name": "stdout",
          "text": [
            "temp: 0\n",
            "dewp: 0\n",
            "slp: 365\n",
            "stp: 4\n",
            "visib: 0\n",
            "wdsp: 0\n",
            "mxpsd: 0\n",
            "gust: 318\n",
            "max: 1\n",
            "min: 1\n",
            "prcp: 50\n",
            "sndp: 955\n"
          ]
        }
      ]
    },
    {
      "cell_type": "code",
      "source": [
        "print(df.dtypes)\n",
        "df['wdsp'] = pd.to_numeric(df['wdsp'])\n",
        "df['mxpsd'] = pd.to_numeric(df['mxpsd'])\n",
        "print()\n",
        "print(df[['wdsp', 'mxpsd']].dtypes)\n"
      ],
      "metadata": {
        "colab": {
          "base_uri": "https://localhost:8080/"
        },
        "id": "LxK1Za9krPmS",
        "outputId": "30960685-abbd-4918-9c3c-68c21291a076"
      },
      "execution_count": 28,
      "outputs": [
        {
          "output_type": "stream",
          "name": "stdout",
          "text": [
            "temp     float64\n",
            "dewp     float64\n",
            "slp      float64\n",
            "stp      float64\n",
            "visib    float64\n",
            "wdsp     float64\n",
            "mxpsd    float64\n",
            "gust     float64\n",
            "max      float64\n",
            "min      float64\n",
            "prcp     float64\n",
            "sndp     float64\n",
            "date      object\n",
            "dtype: object\n",
            "\n",
            "wdsp     float64\n",
            "mxpsd    float64\n",
            "dtype: object\n"
          ]
        },
        {
          "output_type": "stream",
          "name": "stderr",
          "text": [
            "/usr/local/lib/python3.7/dist-packages/ipykernel_launcher.py:2: SettingWithCopyWarning: \n",
            "A value is trying to be set on a copy of a slice from a DataFrame.\n",
            "Try using .loc[row_indexer,col_indexer] = value instead\n",
            "\n",
            "See the caveats in the documentation: https://pandas.pydata.org/pandas-docs/stable/user_guide/indexing.html#returning-a-view-versus-a-copy\n",
            "  \n",
            "/usr/local/lib/python3.7/dist-packages/ipykernel_launcher.py:3: SettingWithCopyWarning: \n",
            "A value is trying to be set on a copy of a slice from a DataFrame.\n",
            "Try using .loc[row_indexer,col_indexer] = value instead\n",
            "\n",
            "See the caveats in the documentation: https://pandas.pydata.org/pandas-docs/stable/user_guide/indexing.html#returning-a-view-versus-a-copy\n",
            "  This is separate from the ipykernel package so we can avoid doing imports until\n"
          ]
        }
      ]
    },
    {
      "cell_type": "code",
      "source": [
        "import numpy as np\n",
        "\n",
        "for col in missing_values:\n",
        "  df[col] = df[col].replace([missing_values[col]], np.NaN)\n",
        "\n",
        "abc = df.groupby('date', as_index=False).mean()"
      ],
      "metadata": {
        "colab": {
          "base_uri": "https://localhost:8080/"
        },
        "id": "FLDUV7CGrUXz",
        "outputId": "4f76d997-68c7-44ed-cf6a-718bdb8f154e"
      },
      "execution_count": 29,
      "outputs": [
        {
          "output_type": "stream",
          "name": "stderr",
          "text": [
            "/usr/local/lib/python3.7/dist-packages/ipykernel_launcher.py:4: SettingWithCopyWarning: \n",
            "A value is trying to be set on a copy of a slice from a DataFrame.\n",
            "Try using .loc[row_indexer,col_indexer] = value instead\n",
            "\n",
            "See the caveats in the documentation: https://pandas.pydata.org/pandas-docs/stable/user_guide/indexing.html#returning-a-view-versus-a-copy\n",
            "  after removing the cwd from sys.path.\n"
          ]
        }
      ]
    },
    {
      "cell_type": "code",
      "source": [
        "# Check for missing data\n",
        "for column in abc:\n",
        "  print(column, ': ', abc[column].isna().sum())"
      ],
      "metadata": {
        "colab": {
          "base_uri": "https://localhost:8080/"
        },
        "id": "fPcwocAF29OS",
        "outputId": "90747dcc-f372-4b26-86c8-c7cbf88e413e"
      },
      "execution_count": 30,
      "outputs": [
        {
          "output_type": "stream",
          "name": "stdout",
          "text": [
            "date :  0\n",
            "temp :  0\n",
            "dewp :  0\n",
            "slp :  0\n",
            "stp :  0\n",
            "visib :  0\n",
            "wdsp :  0\n",
            "mxpsd :  0\n",
            "gust :  56\n",
            "max :  0\n",
            "min :  0\n",
            "prcp :  0\n",
            "sndp :  289\n"
          ]
        }
      ]
    },
    {
      "cell_type": "code",
      "source": [
        "for col in missing_values:\n",
        "  abc[col] = abc[col].replace([np.NaN], 0)"
      ],
      "metadata": {
        "id": "DeFWYsJbyvG0"
      },
      "execution_count": null,
      "outputs": []
    },
    {
      "cell_type": "code",
      "source": [
        "abc.plot(x = 'date', y = 'gust', kind = 'scatter')"
      ],
      "metadata": {
        "colab": {
          "base_uri": "https://localhost:8080/",
          "height": 296
        },
        "id": "MJ0zxWOKwtVA",
        "outputId": "f63439d7-4da2-4394-fe7f-3d99493f7948"
      },
      "execution_count": 31,
      "outputs": [
        {
          "output_type": "execute_result",
          "data": {
            "text/plain": [
              "<matplotlib.axes._subplots.AxesSubplot at 0x7feb8bcd0290>"
            ]
          },
          "metadata": {},
          "execution_count": 31
        },
        {
          "output_type": "display_data",
          "data": {
            "text/plain": [
              "<Figure size 432x288 with 1 Axes>"
            ],
            "image/png": "[encoded data removed]"
          },
          "metadata": {
            "needs_background": "light"
          }
        }
      ]
    },
    {
      "cell_type": "code",
      "metadata": {
        "id": "3sBsh4ETuBnh"
      },
      "source": [
        "# Save weather data to CSV files.\n",
        "\n",
        "names = ['weather_2015', 'weather_2016', 'weather_2017', 'weather_2018', 'weather_2019']\n",
        "\n",
        "for index in range(len(names)):\n",
        "  with open('/gdrive/My Drive/{}.csv'.format(names[index]), 'w') as f:\n",
        "    weather[index].to_csv(f)"
      ],
      "execution_count": null,
      "outputs": []
    }
  ]
}
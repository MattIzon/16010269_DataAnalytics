{
  "nbformat": 4,
  "nbformat_minor": 0,
  "metadata": {
    "colab": {
      "name": "Untitled0.ipynb",
      "provenance": [],
      "authorship_tag": "ABX9TyMBo6kL5zjWyCZHGpdq7TyE",
      "include_colab_link": true
    },
    "kernelspec": {
      "name": "python3",
      "display_name": "Python 3"
    },
    "language_info": {
      "name": "python"
    }
  },
  "cells": [
    {
      "cell_type": "markdown",
      "metadata": {
        "id": "view-in-github",
        "colab_type": "text"
      },
      "source": [
        "<a href=\"https://colab.research.google.com/github/MattIzon/16010269_DataAnalytics/blob/main/8_Create_LR_Sets.ipynb\" target=\"_parent\"><img src=\"https://colab.research.google.com/assets/colab-badge.svg\" alt=\"Open In Colab\"/></a>"
      ]
    },
    {
      "cell_type": "code",
      "source": [
        "# Set-up\n",
        "import pandas as pd\n",
        "from google.colab import files\n",
        "\n",
        "pd.set_option('display.max_columns', None)\n",
        "\n",
        "def dlcsv(df,name):\n",
        "  df.to_csv('{}.csv'.format(name), index=False)\n",
        "  files.download('{}.csv'.format(name))"
      ],
      "metadata": {
        "id": "yjEthHRqeE75"
      },
      "execution_count": 1,
      "outputs": []
    },
    {
      "cell_type": "code",
      "source": [
        "#combine weather and crime for each year\n",
        "\n",
        "data= []\n",
        "\n",
        "for year in range(2015,2020):\n",
        "  weather = pd.read_csv('https://raw.githubusercontent.com/MattIzon/16010269_DataAnalytics/main/data/w_{}.csv'.format(year)).set_index('date')\n",
        "  crime = pd.read_csv('https://raw.githubusercontent.com/MattIzon/16010269_DataAnalytics/main/data/c_day_{}.csv'.format(year)).set_index('date')\n",
        "  crime.drop('Unnamed: 0', axis=1, inplace=True)\n",
        "  data.append(crime.join(weather).reset_index())"
      ],
      "metadata": {
        "id": "3mcAHm3Srcht"
      },
      "execution_count": 2,
      "outputs": []
    },
    {
      "cell_type": "code",
      "source": [
        "# Remove outliers (more than 2 standard deviations from mean)\n",
        "adjusted = []\n",
        "\n",
        "for year in range(5):\n",
        "  df = data[year].copy()\n",
        "  upper = df.crime_count.mean() + (2 * df.crime_count.std())\n",
        "  lower = df.crime_count.mean() - (2 * df.crime_count.std())\n",
        "\n",
        "  df.drop(df[df.crime_count > upper].index, inplace=True)\n",
        "  df.drop(df[df.crime_count < lower].index, inplace=True)\n",
        "\n",
        "  adjusted.append(df)"
      ],
      "metadata": {
        "id": "4L-4YnEHlfRy"
      },
      "execution_count": 3,
      "outputs": []
    },
    {
      "cell_type": "code",
      "source": [
        "# Combine all years into single dataset\n",
        "combined = pd.concat(adjusted).reset_index()"
      ],
      "metadata": {
        "id": "GN-oay1lE5ip"
      },
      "execution_count": 4,
      "outputs": []
    },
    {
      "cell_type": "code",
      "source": [
        "# Re-allocate day_of_week categories to produce a linear relationship\n",
        "combined.groupby('day_of_week').mean()['crime_count'].sort_values() # new order\n",
        "\n",
        "cda = combined.copy() # cda ~ combined_day-of-week_adjusted\n",
        "label_conversions = {1:3,\n",
        "                     2:7,\n",
        "                     3:5,\n",
        "                     4:4,\n",
        "                     5:1,\n",
        "                     6:2,\n",
        "                     7:6}\n",
        "cda['day_of_week'].replace(label_conversions, inplace=True)"
      ],
      "metadata": {
        "id": "wBg56UJqBNAS"
      },
      "execution_count": 6,
      "outputs": []
    },
    {
      "cell_type": "code",
      "source": [
        "dlcsv(combined, 'mon-sun')\n",
        "dlcsv(cda, 'linear_cc')"
      ],
      "metadata": {
        "id": "hCQLgromGUSv",
        "colab": {
          "base_uri": "https://localhost:8080/",
          "height": 17
        },
        "outputId": "2bc33fac-e69c-415d-ac4f-1df8b1a3a33a"
      },
      "execution_count": 7,
      "outputs": [
        {
          "output_type": "display_data",
          "data": {
            "text/plain": [
              "<IPython.core.display.Javascript object>"
            ],
            "application/javascript": [
              "\n",
              "    async function download(id, filename, size) {\n",
              "      if (!google.colab.kernel.accessAllowed) {\n",
              "        return;\n",
              "      }\n",
              "      const div = document.createElement('div');\n",
              "      const label = document.createElement('label');\n",
              "      label.textContent = `Downloading \"${filename}\": `;\n",
              "      div.appendChild(label);\n",
              "      const progress = document.createElement('progress');\n",
              "      progress.max = size;\n",
              "      div.appendChild(progress);\n",
              "      document.body.appendChild(div);\n",
              "\n",
              "      const buffers = [];\n",
              "      let downloaded = 0;\n",
              "\n",
              "      const channel = await google.colab.kernel.comms.open(id);\n",
              "      // Send a message to notify the kernel that we're ready.\n",
              "      channel.send({})\n",
              "\n",
              "      for await (const message of channel.messages) {\n",
              "        // Send a message to notify the kernel that we're ready.\n",
              "        channel.send({})\n",
              "        if (message.buffers) {\n",
              "          for (const buffer of message.buffers) {\n",
              "            buffers.push(buffer);\n",
              "            downloaded += buffer.byteLength;\n",
              "            progress.value = downloaded;\n",
              "          }\n",
              "        }\n",
              "      }\n",
              "      const blob = new Blob(buffers, {type: 'application/binary'});\n",
              "      const a = document.createElement('a');\n",
              "      a.href = window.URL.createObjectURL(blob);\n",
              "      a.download = filename;\n",
              "      div.appendChild(a);\n",
              "      a.click();\n",
              "      div.remove();\n",
              "    }\n",
              "  "
            ]
          },
          "metadata": {}
        },
        {
          "output_type": "display_data",
          "data": {
            "text/plain": [
              "<IPython.core.display.Javascript object>"
            ],
            "application/javascript": [
              "download(\"download_37793fc7-e418-450e-bd3f-ffc06d51fcd3\", \"mon-sun.csv\", 326115)"
            ]
          },
          "metadata": {}
        },
        {
          "output_type": "display_data",
          "data": {
            "text/plain": [
              "<IPython.core.display.Javascript object>"
            ],
            "application/javascript": [
              "\n",
              "    async function download(id, filename, size) {\n",
              "      if (!google.colab.kernel.accessAllowed) {\n",
              "        return;\n",
              "      }\n",
              "      const div = document.createElement('div');\n",
              "      const label = document.createElement('label');\n",
              "      label.textContent = `Downloading \"${filename}\": `;\n",
              "      div.appendChild(label);\n",
              "      const progress = document.createElement('progress');\n",
              "      progress.max = size;\n",
              "      div.appendChild(progress);\n",
              "      document.body.appendChild(div);\n",
              "\n",
              "      const buffers = [];\n",
              "      let downloaded = 0;\n",
              "\n",
              "      const channel = await google.colab.kernel.comms.open(id);\n",
              "      // Send a message to notify the kernel that we're ready.\n",
              "      channel.send({})\n",
              "\n",
              "      for await (const message of channel.messages) {\n",
              "        // Send a message to notify the kernel that we're ready.\n",
              "        channel.send({})\n",
              "        if (message.buffers) {\n",
              "          for (const buffer of message.buffers) {\n",
              "            buffers.push(buffer);\n",
              "            downloaded += buffer.byteLength;\n",
              "            progress.value = downloaded;\n",
              "          }\n",
              "        }\n",
              "      }\n",
              "      const blob = new Blob(buffers, {type: 'application/binary'});\n",
              "      const a = document.createElement('a');\n",
              "      a.href = window.URL.createObjectURL(blob);\n",
              "      a.download = filename;\n",
              "      div.appendChild(a);\n",
              "      a.click();\n",
              "      div.remove();\n",
              "    }\n",
              "  "
            ]
          },
          "metadata": {}
        },
        {
          "output_type": "display_data",
          "data": {
            "text/plain": [
              "<IPython.core.display.Javascript object>"
            ],
            "application/javascript": [
              "download(\"download_551051b2-f1bc-4f3d-a98c-e5a42d97f9a8\", \"linear_cc.csv\", 326115)"
            ]
          },
          "metadata": {}
        }
      ]
    }
  ]
}
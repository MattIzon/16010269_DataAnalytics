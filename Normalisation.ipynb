{
  "nbformat": 4,
  "nbformat_minor": 0,
  "metadata": {
    "colab": {
      "name": "Untitled2.ipynb",
      "provenance": [],
      "authorship_tag": "ABX9TyPrJX2rm+PKPnIw1St4iuS0",
      "include_colab_link": true
    },
    "kernelspec": {
      "name": "python3",
      "display_name": "Python 3"
    },
    "language_info": {
      "name": "python"
    }
  },
  "cells": [
    {
      "cell_type": "markdown",
      "metadata": {
        "id": "view-in-github",
        "colab_type": "text"
      },
      "source": [
        "<a href=\"https://colab.research.google.com/github/MattIzon/16010269_DataAnalytics/blob/main/Normalisation.ipynb\" target=\"_parent\"><img src=\"https://colab.research.google.com/assets/colab-badge.svg\" alt=\"Open In Colab\"/></a>"
      ]
    },
    {
      "cell_type": "code",
      "source": [
        "# Set-up\n",
        "import pandas as pd\n",
        "import numpy as np\n",
        "import tensorflow as tf\n",
        "import matplotlib.pyplot as plt\n",
        "\n",
        "pd.set_option('display.max_columns', None)"
      ],
      "metadata": {
        "id": "_T3H8vvFvdO-"
      },
      "execution_count": 2,
      "outputs": []
    },
    {
      "cell_type": "code",
      "source": [
        "def normalise(df, column_list):\n",
        "  # Normalises df columns in column_list returning a dictionary of column_name: (min_value, max_value) that can be used to recover the original values\n",
        "  params = dict()\n",
        "\n",
        "  for col in column_list:\n",
        "    min = df[col].min()\n",
        "    max = df[col].max()\n",
        "    params[col] = (min, max)\n",
        "    df[col] = (df[col] - min) / (max - min)\n",
        "\n",
        "  return params\n",
        "\n",
        "\n",
        "def denormalise(df, params, column_list):\n",
        "  # Uses the params dictionary produced during normalisation and a list of columns to recover their original values\n",
        "  for col in column_list:\n",
        "    min = params[col][0]\n",
        "    max = params[col][1]\n",
        "    df[col] = (df[col] * (max-min)) + min"
      ],
      "metadata": {
        "id": "5jYq5vLuvkBk"
      },
      "execution_count": 19,
      "outputs": []
    },
    {
      "cell_type": "code",
      "source": [
        "data = pd.DataFrame(np.random.randint(0,10,size=(5, 3)), columns=list('ABC'))\n",
        "print(data) # The original data\n",
        "\n",
        "params = normalise(data, ['A', 'B'])\n",
        "print(data) # Columns A and B should be normalised. C should not be touched.\n",
        "\n",
        "denormalise(data,params,['B'])\n",
        "print(data) # Column A should have been recovered, B should still be normalised. C should not be touched"
      ],
      "metadata": {
        "colab": {
          "base_uri": "https://localhost:8080/"
        },
        "id": "RnFu9g1AvPnQ",
        "outputId": "65525c8d-72ee-4e0c-ac36-a8c6981dd82d"
      },
      "execution_count": 23,
      "outputs": [
        {
          "output_type": "stream",
          "name": "stdout",
          "text": [
            "   A  B  C\n",
            "0  7  7  2\n",
            "1  8  4  6\n",
            "2  4  9  7\n",
            "3  6  0  3\n",
            "4  6  5  5\n",
            "      A         B  C\n",
            "0  0.75  0.777778  2\n",
            "1  1.00  0.444444  6\n",
            "2  0.00  1.000000  7\n",
            "3  0.50  0.000000  3\n",
            "4  0.50  0.555556  5\n",
            "      A    B  C\n",
            "0  0.75  7.0  2\n",
            "1  1.00  4.0  6\n",
            "2  0.00  9.0  7\n",
            "3  0.50  0.0  3\n",
            "4  0.50  5.0  5\n"
          ]
        }
      ]
    }
  ]
}
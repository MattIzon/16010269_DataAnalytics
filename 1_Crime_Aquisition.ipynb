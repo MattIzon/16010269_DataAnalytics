{
  "nbformat": 4,
  "nbformat_minor": 0,
  "metadata": {
    "colab": {
      "name": "1_Crime Aquisition.ipynb",
      "provenance": [],
      "collapsed_sections": [],
      "authorship_tag": "ABX9TyODmFLHNYmQOIScXvjHrTp0",
      "include_colab_link": true
    },
    "kernelspec": {
      "display_name": "Python 3",
      "name": "python3"
    }
  },
  "cells": [
    {
      "cell_type": "markdown",
      "metadata": {
        "id": "view-in-github",
        "colab_type": "text"
      },
      "source": [
        "<a href=\"https://colab.research.google.com/github/MattIzon/16010269_DataAnalytics/blob/main/1_Crime_Aquisition.ipynb\" target=\"_parent\"><img src=\"https://colab.research.google.com/assets/colab-badge.svg\" alt=\"Open In Colab\"/></a>"
      ]
    },
    {
      "cell_type": "code",
      "metadata": {
        "colab": {
          "base_uri": "https://localhost:8080/"
        },
        "id": "d8Z2-nncOdZS",
        "outputId": "6388b9b5-e221-4489-8c47-e8e6eb50c57d"
      },
      "source": [
        "# This redirects to get an auth key from your google account. Ctrl + v it into the box and hit enter.\n",
        "# It sometimes fails on first run then authenticates immediately on second click?\n",
        "\n",
        "from google.colab import auth\n",
        "auth.authenticate_user()\n",
        "print('Authenticated')\n",
        "\n",
        "from google.cloud import bigquery\n",
        "from google.colab import drive\n",
        "drive.mount('/gdrive', force_remount=True)"
      ],
      "execution_count": null,
      "outputs": [
        {
          "output_type": "stream",
          "text": [
            "Authenticated\n",
            "Mounted at /gdrive\n"
          ],
          "name": "stdout"
        }
      ]
    },
    {
      "cell_type": "code",
      "metadata": {
        "id": "l0lNEr1wYQgy"
      },
      "source": [
        "# This uses big query to get the crime data\n",
        "\n",
        "client = bigquery.Client(project='assignment-305921')\n",
        "\n",
        "crime = []\n",
        "\n",
        "for year in range(2016, 2021):\n",
        "  crime.append(client.query('''\n",
        "  SELECT *\n",
        "  FROM `bigquery-public-data.chicago_crime.crime`\n",
        "  WHERE year = {}\n",
        "  ORDER BY date\n",
        "  '''.format(year)).to_dataframe())"
      ],
      "execution_count": null,
      "outputs": []
    },
    {
      "cell_type": "code",
      "metadata": {
        "id": "Nc4cJtW6mGm9"
      },
      "source": [
        "# Save crime data to CSV files.\n",
        "\n",
        "names = ['bq_2016', 'bq_2017', 'bq_2018', 'bq_2019', 'bq_2020']\n",
        "\n",
        "for index in range(len(names)):\n",
        "  with open('/gdrive/My Drive/assignment/data/crime/{}.csv'.format(names[index]), 'w') as f:\n",
        "    crime[index].to_csv(f)"
      ],
      "execution_count": null,
      "outputs": []
    }
  ]
}
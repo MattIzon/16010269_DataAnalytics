{
  "nbformat": 4,
  "nbformat_minor": 0,
  "metadata": {
    "colab": {
      "name": "Untitled3.ipynb",
      "provenance": [],
      "authorship_tag": "ABX9TyMVm4M6W7f1Bk0r34Gbn4xU",
      "include_colab_link": true
    },
    "kernelspec": {
      "name": "python3",
      "display_name": "Python 3"
    },
    "language_info": {
      "name": "python"
    }
  },
  "cells": [
    {
      "cell_type": "markdown",
      "metadata": {
        "id": "view-in-github",
        "colab_type": "text"
      },
      "source": [
        "<a href=\"https://colab.research.google.com/github/MattIzon/16010269_DataAnalytics/blob/main/one_hot_encoding.ipynb\" target=\"_parent\"><img src=\"https://colab.research.google.com/assets/colab-badge.svg\" alt=\"Open In Colab\"/></a>"
      ]
    },
    {
      "cell_type": "code",
      "execution_count": null,
      "metadata": {
        "id": "Tt0hbBrjD4QA"
      },
      "outputs": [],
      "source": [
        "# Set-up\n",
        "import pandas as pd\n",
        "\n",
        "pd.set_option('display.max_columns', None)"
      ]
    },
    {
      "cell_type": "code",
      "source": [
        "data = pd.DataFrame([[1,'Jan'],[2,'Feb'],[3,'Jan'],[4,'Jan'],[5,'Mar'],[6,'Feb']], columns=['X', 'Month'])"
      ],
      "metadata": {
        "id": "XXkMpMHvD_ck"
      },
      "execution_count": null,
      "outputs": []
    },
    {
      "cell_type": "code",
      "source": [
        "def one_hot(df, column):\n",
        "    o_h = pd.get_dummies(df[column])\n",
        "    new = pd.concat([df, o_h], axis=1)\n",
        "    new = new.drop([column], axis=1)\n",
        "    return new"
      ],
      "metadata": {
        "id": "_r1c5MNFFtli"
      },
      "execution_count": null,
      "outputs": []
    },
    {
      "cell_type": "code",
      "source": [
        "print(one_hot(data,'Month'))"
      ],
      "metadata": {
        "colab": {
          "base_uri": "https://localhost:8080/"
        },
        "id": "6SRhk0bfGYHr",
        "outputId": "faeff703-d598-45bb-dd4e-0a5605a29c83"
      },
      "execution_count": null,
      "outputs": [
        {
          "output_type": "stream",
          "name": "stdout",
          "text": [
            "   X  Feb  Jan  Mar\n",
            "0  1    0    1    0\n",
            "1  2    1    0    0\n",
            "2  3    0    1    0\n",
            "3  4    0    1    0\n",
            "4  5    0    0    1\n",
            "5  6    1    0    0\n"
          ]
        }
      ]
    }
  ]
}
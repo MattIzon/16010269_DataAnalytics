{
  "nbformat": 4,
  "nbformat_minor": 0,
  "metadata": {
    "colab": {
      "name": "Untitled0.ipynb",
      "provenance": [],
      "authorship_tag": "ABX9TyMooO3N/gbVfZiHAxRXGlxc",
      "include_colab_link": true
    },
    "kernelspec": {
      "name": "python3",
      "display_name": "Python 3"
    },
    "language_info": {
      "name": "python"
    }
  },
  "cells": [
    {
      "cell_type": "markdown",
      "metadata": {
        "id": "view-in-github",
        "colab_type": "text"
      },
      "source": [
        "<a href=\"https://colab.research.google.com/github/MattIzon/16010269_DataAnalytics/blob/main/5_LRdatasets.ipynb\" target=\"_parent\"><img src=\"https://colab.research.google.com/assets/colab-badge.svg\" alt=\"Open In Colab\"/></a>"
      ]
    },
    {
      "cell_type": "code",
      "source": [
        "# Set-up\n",
        "import pandas as pd\n",
        "pd.set_option('display.max_columns', None)"
      ],
      "metadata": {
        "id": "yjEthHRqeE75"
      },
      "execution_count": 1,
      "outputs": []
    },
    {
      "cell_type": "code",
      "source": [
        "#combine weather and crime for each year\n",
        "\n",
        "data= []\n",
        "\n",
        "for year in range(2015,2020):\n",
        "  weather = pd.read_csv('https://raw.githubusercontent.com/MattIzon/16010269_DataAnalytics/main/data/w_{}.csv'.format(year)).set_index('date')\n",
        "  crime = pd.read_csv('https://raw.githubusercontent.com/MattIzon/16010269_DataAnalytics/main/data/c_day_{}.csv'.format(year)).set_index('date')\n",
        "  crime.drop('Unnamed: 0', axis=1, inplace=True)\n",
        "  data.append(crime.join(weather).reset_index())"
      ],
      "metadata": {
        "id": "3mcAHm3Srcht"
      },
      "execution_count": 118,
      "outputs": []
    },
    {
      "cell_type": "code",
      "source": [
        "data[4].plot(x = 'date', y = 'crime_count', kind = 'scatter')"
      ],
      "metadata": {
        "colab": {
          "base_uri": "https://localhost:8080/",
          "height": 296
        },
        "id": "VaAsnAjoiMDK",
        "outputId": "244a715c-4ce5-48c1-e7fb-9fc32925162f"
      },
      "execution_count": 56,
      "outputs": [
        {
          "output_type": "execute_result",
          "data": {
            "text/plain": [
              "<matplotlib.axes._subplots.AxesSubplot at 0x7f4e697c4210>"
            ]
          },
          "metadata": {},
          "execution_count": 56
        },
        {
          "output_type": "display_data",
          "data": {
            "text/plain": [
              "<Figure size 432x288 with 1 Axes>"
            ],
            "image/png": "[encoded data removed]"
          },
          "metadata": {
            "needs_background": "light"
          }
        }
      ]
    },
    {
      "cell_type": "code",
      "source": [
        "# Remove outliers (more than 2 standard deviations from mean)\n",
        "adjusted = []\n",
        "\n",
        "for year in range(5):\n",
        "  df = data[year].copy()\n",
        "  upper = df.crime_count.mean() + (2 * df.crime_count.std())\n",
        "  lower = df.crime_count.mean() - (2 * df.crime_count.std())\n",
        "\n",
        "  df.drop(df[df.crime_count > upper].index, inplace=True)\n",
        "  df.drop(df[df.crime_count < lower].index, inplace=True)\n",
        "\n",
        "  adjusted.append(df)"
      ],
      "metadata": {
        "id": "4L-4YnEHlfRy"
      },
      "execution_count": 119,
      "outputs": []
    },
    {
      "cell_type": "code",
      "source": [
        "# Normalise crime counts to ensure annual deviations dont skew the model\n",
        "\n",
        "for year in adjusted:\n",
        "  min = year.crime_count.min()\n",
        "  max = year.crime_count.max()\n",
        "  year.crime_count = (year.crime_count - min) / (max - min)\n"
      ],
      "metadata": {
        "id": "X9N8u6-iAkE1"
      },
      "execution_count": 120,
      "outputs": []
    },
    {
      "cell_type": "code",
      "source": [
        "# Combine all years into single dataset\n",
        "combined = pd.concat(adjusted)"
      ],
      "metadata": {
        "id": "GN-oay1lE5ip"
      },
      "execution_count": 122,
      "outputs": []
    },
    {
      "cell_type": "code",
      "source": [
        "combined.corr()['crime_count']"
      ],
      "metadata": {
        "colab": {
          "base_uri": "https://localhost:8080/"
        },
        "id": "PqayaT9BFb2p",
        "outputId": "89f29bb2-3ec4-49b5-f1a4-e5b65ea5410b"
      },
      "execution_count": 125,
      "outputs": [
        {
          "output_type": "execute_result",
          "data": {
            "text/plain": [
              "day_of_week             0.038562\n",
              "crime_count             1.000000\n",
              "mo                      0.205136\n",
              "temp                    0.711720\n",
              "dewp                    0.672268\n",
              "slp                    -0.268781\n",
              "stp                     0.119537\n",
              "visib                   0.214685\n",
              "wdsp                   -0.234855\n",
              "mxpsd                  -0.148126\n",
              "gust                   -0.143632\n",
              "max                     0.707362\n",
              "min                     0.691606\n",
              "prcp                    0.003667\n",
              "sndp                   -0.322452\n",
              "fog                    -0.089910\n",
              "rain_drizzle            0.008460\n",
              "snow_ice_pellets       -0.375999\n",
              "hail                         NaN\n",
              "thunder                 0.130229\n",
              "tornado_funnel_cloud         NaN\n",
              "Name: crime_count, dtype: float64"
            ]
          },
          "metadata": {},
          "execution_count": 125
        }
      ]
    },
    {
      "cell_type": "code",
      "source": [
        "LR1 = combined[['day_of_week', 'crime_count', 'temp']].copy()\n",
        "LR2 = combined[['day_of_week', 'crime_count', 'temp', 'sndp']].copy()"
      ],
      "metadata": {
        "id": "hCQLgromGUSv"
      },
      "execution_count": 161,
      "outputs": []
    },
    {
      "cell_type": "code",
      "source": [
        "combined.plot(x = 'mo', y = 'crime_count', kind = 'scatter')"
      ],
      "metadata": {
        "colab": {
          "base_uri": "https://localhost:8080/",
          "height": 296
        },
        "id": "PEZ5qkrFGxwv",
        "outputId": "456e090f-e79c-4c19-c6c5-3c4f2f9366a9"
      },
      "execution_count": 162,
      "outputs": [
        {
          "output_type": "execute_result",
          "data": {
            "text/plain": [
              "<matplotlib.axes._subplots.AxesSubplot at 0x7f4e68e52c10>"
            ]
          },
          "metadata": {},
          "execution_count": 162
        },
        {
          "output_type": "display_data",
          "data": {
            "text/plain": [
              "<Figure size 432x288 with 1 Axes>"
            ],
            "image/png": "[encoded data removed]"
          },
          "metadata": {
            "needs_background": "light"
          }
        }
      ]
    },
    {
      "cell_type": "code",
      "source": [
        "# Inspect half year based on crime count curve\n",
        "half1 = combined.loc[combined['mo'].isin([1,2,3,4,11,12])]\n",
        "half2 = combined.loc[combined['mo'].isin([5,6,7,8,9,10])]\n",
        "\n",
        "half1.corr()['crime_count']\n",
        "\n",
        "LR3_may_oct = half2[['day_of_week', 'crime_count', 'temp']]\n",
        "LR3_nov_apr = half2[['day_of_week', 'crime_count', 'temp', 'sndp']]"
      ],
      "metadata": {
        "id": "Xj1sG8soLyIv"
      },
      "execution_count": 163,
      "outputs": []
    },
    {
      "cell_type": "code",
      "source": [
        "# Inspect individual months\n",
        "months = []\n",
        "for month in range(1,13):\n",
        "  months.append(combined.loc[combined['mo'] == month])\n",
        "\n",
        "months[11].corr()['crime_count']"
      ],
      "metadata": {
        "id": "5AyHPJyANL3J"
      },
      "execution_count": 139,
      "outputs": []
    },
    {
      "cell_type": "code",
      "source": [
        "# Try an uneven split\n",
        "q1 = combined.loc[combined['mo'].isin([1,2,3,4])]\n",
        "summer = combined.loc[combined['mo'].isin([6,7,8])]\n",
        "other = combined.loc[combined['mo'].isin([5,9])]\n",
        "q4 = combined.loc[combined['mo'].isin([10,11,12])]\n",
        "\n",
        "other.corr()['crime_count']"
      ],
      "metadata": {
        "colab": {
          "base_uri": "https://localhost:8080/"
        },
        "id": "-at3UTM2NU2P",
        "outputId": "b0f1b703-a534-4add-c2ed-2277e2e3e43b"
      },
      "execution_count": 156,
      "outputs": [
        {
          "output_type": "execute_result",
          "data": {
            "text/plain": [
              "day_of_week             0.043179\n",
              "crime_count             1.000000\n",
              "mo                     -0.029949\n",
              "temp                    0.416983\n",
              "dewp                    0.330230\n",
              "slp                    -0.053118\n",
              "stp                    -0.016696\n",
              "visib                   0.105570\n",
              "wdsp                   -0.110157\n",
              "mxpsd                  -0.079282\n",
              "gust                   -0.030048\n",
              "max                     0.419085\n",
              "min                     0.339634\n",
              "prcp                   -0.053192\n",
              "sndp                         NaN\n",
              "fog                    -0.035716\n",
              "rain_drizzle           -0.186774\n",
              "snow_ice_pellets             NaN\n",
              "hail                         NaN\n",
              "thunder                -0.071158\n",
              "tornado_funnel_cloud         NaN\n",
              "Name: crime_count, dtype: float64"
            ]
          },
          "metadata": {},
          "execution_count": 156
        }
      ]
    }
  ]
}
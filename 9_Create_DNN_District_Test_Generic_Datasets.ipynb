{
  "nbformat": 4,
  "nbformat_minor": 0,
  "metadata": {
    "colab": {
      "name": "Untitled0.ipynb",
      "provenance": [],
      "authorship_tag": "ABX9TyM9wxL7Ubi+l7PIPhojAafk",
      "include_colab_link": true
    },
    "kernelspec": {
      "name": "python3",
      "display_name": "Python 3"
    },
    "language_info": {
      "name": "python"
    }
  },
  "cells": [
    {
      "cell_type": "markdown",
      "metadata": {
        "id": "view-in-github",
        "colab_type": "text"
      },
      "source": [
        "<a href=\"https://colab.research.google.com/github/MattIzon/16010269_DataAnalytics/blob/main/9_Create_DNN_District_Test_Generic_Datasets.ipynb\" target=\"_parent\"><img src=\"https://colab.research.google.com/assets/colab-badge.svg\" alt=\"Open In Colab\"/></a>"
      ]
    },
    {
      "cell_type": "code",
      "source": [
        "# Set-up\n",
        "import pandas as pd\n",
        "import numpy as np\n",
        "from google.colab import files\n",
        "\n",
        "pd.set_option('display.max_columns', None)\n",
        "\n",
        "\n",
        "def one_hot(df, column):\n",
        "    o_h = pd.get_dummies(df[column])\n",
        "    new = pd.concat([df, o_h], axis=1)\n",
        "    new = new.drop([column], axis=1)\n",
        "    return new\n",
        "    \n",
        "\n",
        "def dlcsv(df,name):\n",
        "  df.to_csv('{}.csv'.format(name), index=False)\n",
        "  files.download('{}.csv'.format(name))"
      ],
      "metadata": {
        "id": "yjEthHRqeE75"
      },
      "execution_count": null,
      "outputs": []
    },
    {
      "cell_type": "code",
      "source": [
        "#combine weather and crime for each year\n",
        "data= []\n",
        "\n",
        "for year in range(2015,2020):\n",
        "  weather = pd.read_csv('https://raw.githubusercontent.com/MattIzon/16010269_DataAnalytics/main/data/w_{}.csv'.format(year)).set_index('date')\n",
        "  crime = pd.read_csv('https://raw.githubusercontent.com/MattIzon/16010269_DataAnalytics/main/data/c_district_{}.csv'.format(year)).set_index('date')\n",
        "  crime.drop('Unnamed: 0', axis=1, inplace=True)\n",
        "  data.append(crime.join(weather).reset_index())"
      ],
      "metadata": {
        "id": "3mcAHm3Srcht"
      },
      "execution_count": null,
      "outputs": []
    },
    {
      "cell_type": "code",
      "source": [
        "#add year column\n",
        "year = 2015\n",
        "for df in data:\n",
        "  df['year'] = year\n",
        "  year += 1"
      ],
      "metadata": {
        "id": "aIlUq14BVQfj"
      },
      "execution_count": null,
      "outputs": []
    },
    {
      "cell_type": "code",
      "source": [
        "# Combine all years into single dataset\n",
        "combined = pd.concat(data).reset_index()\n",
        "combined.drop('index', axis=1, inplace=True)"
      ],
      "metadata": {
        "id": "GN-oay1lE5ip"
      },
      "execution_count": null,
      "outputs": []
    },
    {
      "cell_type": "code",
      "source": [
        "# one hot encode day_of_week\n",
        "days = ['Mon', 'Tue', 'Wed', 'Thu', 'Fri', 'Sat', 'Sun']\n",
        "\n",
        "for index in range(len(days)):\n",
        "  value = index + 1\n",
        "  combined.loc[combined.day_of_week == value, 'day_of_week'] = days[index]\n",
        "\n",
        "combined = one_hot(combined, 'day_of_week')"
      ],
      "metadata": {
        "id": "Noa5klsTjrq1"
      },
      "execution_count": null,
      "outputs": []
    },
    {
      "cell_type": "code",
      "source": [
        "# one hot encode mo\n",
        "days = ['Jan', 'Feb', 'Mar', 'Apr', 'May', 'Jun', 'Jul', 'Aug', 'Sep', 'Oct', 'Nov', 'Dec']\n",
        "\n",
        "for index in range(len(days)):\n",
        "  value = index + 1\n",
        "  combined.loc[combined.mo == value, 'mo'] = days[index]\n",
        "\n",
        "combined = one_hot(combined, 'mo')"
      ],
      "metadata": {
        "id": "dw5CpeHJoNAE"
      },
      "execution_count": null,
      "outputs": []
    },
    {
      "cell_type": "code",
      "source": [
        "# one hot encode district\n",
        "combined.district = df.district.apply(np.int64)\n",
        "districts = list(combined.district.unique())\n",
        "combined = one_hot(combined, 'district')\n",
        "for district in districts:\n",
        "  combined.rename({district: 'district_{}'.format(district)}, axis=1, inplace=True)"
      ],
      "metadata": {
        "id": "DgoSBzUlpa2F"
      },
      "execution_count": null,
      "outputs": []
    },
    {
      "cell_type": "code",
      "source": [
        "# Shuffle the dataset\n",
        "rand_combined = combined.iloc[np.random.permutation(len(combined))]"
      ],
      "metadata": {
        "id": "5RW0vy8mV4gC"
      },
      "execution_count": null,
      "outputs": []
    },
    {
      "cell_type": "code",
      "source": [
        "# Save testing and generic datasets\n",
        "test_size = int(len(rand_combined)*0.01)\n",
        "test_set = rand_combined.iloc[:test_size]\n",
        "dlcsv(test_set, 'DNN_test_set')\n",
        "\n",
        "generic_set = rand_combined.iloc[test_size:]\n",
        "dlcsv(generic_set, 'DNN_generic_set')"
      ],
      "metadata": {
        "colab": {
          "base_uri": "https://localhost:8080/",
          "height": 17
        },
        "id": "w0RYCfpZWRiS",
        "outputId": "20e52691-f7d9-4e1a-bcaa-391f47851828"
      },
      "execution_count": null,
      "outputs": [
        {
          "output_type": "display_data",
          "data": {
            "text/plain": [
              "<IPython.core.display.Javascript object>"
            ],
            "application/javascript": [
              "\n",
              "    async function download(id, filename, size) {\n",
              "      if (!google.colab.kernel.accessAllowed) {\n",
              "        return;\n",
              "      }\n",
              "      const div = document.createElement('div');\n",
              "      const label = document.createElement('label');\n",
              "      label.textContent = `Downloading \"${filename}\": `;\n",
              "      div.appendChild(label);\n",
              "      const progress = document.createElement('progress');\n",
              "      progress.max = size;\n",
              "      div.appendChild(progress);\n",
              "      document.body.appendChild(div);\n",
              "\n",
              "      const buffers = [];\n",
              "      let downloaded = 0;\n",
              "\n",
              "      const channel = await google.colab.kernel.comms.open(id);\n",
              "      // Send a message to notify the kernel that we're ready.\n",
              "      channel.send({})\n",
              "\n",
              "      for await (const message of channel.messages) {\n",
              "        // Send a message to notify the kernel that we're ready.\n",
              "        channel.send({})\n",
              "        if (message.buffers) {\n",
              "          for (const buffer of message.buffers) {\n",
              "            buffers.push(buffer);\n",
              "            downloaded += buffer.byteLength;\n",
              "            progress.value = downloaded;\n",
              "          }\n",
              "        }\n",
              "      }\n",
              "      const blob = new Blob(buffers, {type: 'application/binary'});\n",
              "      const a = document.createElement('a');\n",
              "      a.href = window.URL.createObjectURL(blob);\n",
              "      a.download = filename;\n",
              "      div.appendChild(a);\n",
              "      a.click();\n",
              "      div.remove();\n",
              "    }\n",
              "  "
            ]
          },
          "metadata": {}
        },
        {
          "output_type": "display_data",
          "data": {
            "text/plain": [
              "<IPython.core.display.Javascript object>"
            ],
            "application/javascript": [
              "download(\"download_bffc353e-1c7c-47ca-a805-07c5650bd542\", \"DNN_test_set.csv\", 108887)"
            ]
          },
          "metadata": {}
        },
        {
          "output_type": "display_data",
          "data": {
            "text/plain": [
              "<IPython.core.display.Javascript object>"
            ],
            "application/javascript": [
              "\n",
              "    async function download(id, filename, size) {\n",
              "      if (!google.colab.kernel.accessAllowed) {\n",
              "        return;\n",
              "      }\n",
              "      const div = document.createElement('div');\n",
              "      const label = document.createElement('label');\n",
              "      label.textContent = `Downloading \"${filename}\": `;\n",
              "      div.appendChild(label);\n",
              "      const progress = document.createElement('progress');\n",
              "      progress.max = size;\n",
              "      div.appendChild(progress);\n",
              "      document.body.appendChild(div);\n",
              "\n",
              "      const buffers = [];\n",
              "      let downloaded = 0;\n",
              "\n",
              "      const channel = await google.colab.kernel.comms.open(id);\n",
              "      // Send a message to notify the kernel that we're ready.\n",
              "      channel.send({})\n",
              "\n",
              "      for await (const message of channel.messages) {\n",
              "        // Send a message to notify the kernel that we're ready.\n",
              "        channel.send({})\n",
              "        if (message.buffers) {\n",
              "          for (const buffer of message.buffers) {\n",
              "            buffers.push(buffer);\n",
              "            downloaded += buffer.byteLength;\n",
              "            progress.value = downloaded;\n",
              "          }\n",
              "        }\n",
              "      }\n",
              "      const blob = new Blob(buffers, {type: 'application/binary'});\n",
              "      const a = document.createElement('a');\n",
              "      a.href = window.URL.createObjectURL(blob);\n",
              "      a.download = filename;\n",
              "      div.appendChild(a);\n",
              "      a.click();\n",
              "      div.remove();\n",
              "    }\n",
              "  "
            ]
          },
          "metadata": {}
        },
        {
          "output_type": "display_data",
          "data": {
            "text/plain": [
              "<IPython.core.display.Javascript object>"
            ],
            "application/javascript": [
              "download(\"download_1147de35-94cb-4a38-826d-36a56d73a9ae\", \"DNN_generic_set.csv\", 10705064)"
            ]
          },
          "metadata": {}
        }
      ]
    }
  ]
}
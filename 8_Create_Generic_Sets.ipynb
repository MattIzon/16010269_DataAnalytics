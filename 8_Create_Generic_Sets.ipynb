{
  "nbformat": 4,
  "nbformat_minor": 0,
  "metadata": {
    "colab": {
      "name": "Untitled0.ipynb",
      "provenance": [],
      "authorship_tag": "ABX9TyNDkxH59nxerXsTO+uujnU3",
      "include_colab_link": true
    },
    "kernelspec": {
      "name": "python3",
      "display_name": "Python 3"
    },
    "language_info": {
      "name": "python"
    }
  },
  "cells": [
    {
      "cell_type": "markdown",
      "metadata": {
        "id": "view-in-github",
        "colab_type": "text"
      },
      "source": [
        "<a href=\"https://colab.research.google.com/github/MattIzon/16010269_DataAnalytics/blob/main/8_Create_Generic_Sets.ipynb\" target=\"_parent\"><img src=\"https://colab.research.google.com/assets/colab-badge.svg\" alt=\"Open In Colab\"/></a>"
      ]
    },
    {
      "cell_type": "code",
      "source": [
        "# Set-up\n",
        "import pandas as pd\n",
        "import numpy as np\n",
        "from google.colab import files\n",
        "\n",
        "pd.set_option('display.max_columns', None)\n",
        "\n",
        "def dlcsv(df,name):\n",
        "  df.to_csv('{}.csv'.format(name), index=False)\n",
        "  files.download('{}.csv'.format(name))"
      ],
      "metadata": {
        "id": "yjEthHRqeE75"
      },
      "execution_count": null,
      "outputs": []
    },
    {
      "cell_type": "code",
      "source": [
        "#combine weather and crime for each year\n",
        "\n",
        "data= []\n",
        "\n",
        "for year in range(2015,2020):\n",
        "  weather = pd.read_csv('https://raw.githubusercontent.com/MattIzon/16010269_DataAnalytics/main/data/w_{}.csv'.format(year)).set_index('date')\n",
        "  crime = pd.read_csv('https://raw.githubusercontent.com/MattIzon/16010269_DataAnalytics/main/data/c_day_{}.csv'.format(year)).set_index('date')\n",
        "  crime.drop('Unnamed: 0', axis=1, inplace=True)\n",
        "  data.append(crime.join(weather).reset_index())"
      ],
      "metadata": {
        "id": "3mcAHm3Srcht"
      },
      "execution_count": null,
      "outputs": []
    },
    {
      "cell_type": "code",
      "source": [
        "# Remove outliers (more than 2 standard deviations from mean)\n",
        "adjusted = []\n",
        "\n",
        "for year in range(5):\n",
        "  df = data[year].copy()\n",
        "  upper = df.crime_count.mean() + (2 * df.crime_count.std())\n",
        "  lower = df.crime_count.mean() - (2 * df.crime_count.std())\n",
        "\n",
        "  df.drop(df[df.crime_count > upper].index, inplace=True)\n",
        "  df.drop(df[df.crime_count < lower].index, inplace=True)\n",
        "\n",
        "  adjusted.append(df)"
      ],
      "metadata": {
        "id": "4L-4YnEHlfRy"
      },
      "execution_count": null,
      "outputs": []
    },
    {
      "cell_type": "code",
      "source": [
        "# Combine all years into single dataset\n",
        "combined = pd.concat(adjusted).reset_index()"
      ],
      "metadata": {
        "id": "GN-oay1lE5ip"
      },
      "execution_count": null,
      "outputs": []
    },
    {
      "cell_type": "code",
      "source": [
        "# Re-allocate day_of_week categories to produce a linear relationship\n",
        "combined.groupby('day_of_week').mean()['crime_count'].sort_values() # new order\n",
        "\n",
        "cda = combined.copy() # cda ~ combined_day-of-week_adjusted\n",
        "label_conversions = {1:3,\n",
        "                     2:7,\n",
        "                     3:5,\n",
        "                     4:4,\n",
        "                     5:1,\n",
        "                     6:2,\n",
        "                     7:6}\n",
        "cda['day_of_week'].replace(label_conversions, inplace=True)"
      ],
      "metadata": {
        "id": "wBg56UJqBNAS"
      },
      "execution_count": null,
      "outputs": []
    },
    {
      "cell_type": "code",
      "source": [
        "rand_combined = combined.iloc[np.random.permutation(len(combined))]"
      ],
      "metadata": {
        "id": "5RW0vy8mV4gC"
      },
      "execution_count": null,
      "outputs": []
    },
    {
      "cell_type": "code",
      "source": [
        "test_set = rand_combined.iloc[:5]\n",
        "dlcsv(test_set, 'test_data')\n",
        "\n",
        "train_size = int((len(rand_combined)-5)*0.8)\n",
        "train_set = rand_combined.iloc[5:train_size]\n",
        "evaluate_set = rand_combined.iloc[train_size:]\n",
        "dlcsv(train_set, 'train_data')\n",
        "dlcsv(evaluate_set, 'eval_data')"
      ],
      "metadata": {
        "id": "w0RYCfpZWRiS"
      },
      "execution_count": null,
      "outputs": []
    }
  ]
}
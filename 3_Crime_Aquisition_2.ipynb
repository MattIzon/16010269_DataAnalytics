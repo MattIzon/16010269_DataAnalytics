{
  "nbformat": 4,
  "nbformat_minor": 0,
  "metadata": {
    "colab": {
      "name": "1_Crime Aquisition.ipynb",
      "provenance": [],
      "collapsed_sections": [],
      "authorship_tag": "ABX9TyPJzYFxKahikoXzEEopQRwi",
      "include_colab_link": true
    },
    "kernelspec": {
      "display_name": "Python 3",
      "name": "python3"
    }
  },
  "cells": [
    {
      "cell_type": "markdown",
      "metadata": {
        "id": "view-in-github",
        "colab_type": "text"
      },
      "source": [
        "<a href=\"https://colab.research.google.com/github/MattIzon/16010269_DataAnalytics/blob/main/3_Crime_Aquisition_2.ipynb\" target=\"_parent\"><img src=\"https://colab.research.google.com/assets/colab-badge.svg\" alt=\"Open In Colab\"/></a>"
      ]
    },
    {
      "cell_type": "code",
      "metadata": {
        "colab": {
          "base_uri": "https://localhost:8080/"
        },
        "id": "d8Z2-nncOdZS",
        "outputId": "37c26d71-fd75-4a5f-8d28-a437ea45ad9f"
      },
      "source": [
        "# Set-up\n",
        "from google.colab import auth, files\n",
        "auth.authenticate_user()\n",
        "print('Authenticated')\n",
        "\n",
        "from google.cloud import bigquery\n",
        "import pandas as pd\n",
        "pd.set_option('display.max_columns', None)"
      ],
      "execution_count": 1,
      "outputs": [
        {
          "output_type": "stream",
          "name": "stdout",
          "text": [
            "Authenticated\n"
          ]
        }
      ]
    },
    {
      "cell_type": "code",
      "metadata": {
        "id": "l0lNEr1wYQgy"
      },
      "source": [
        "# Use big query to get the crime data\n",
        "client = bigquery.Client(project='assignment-305921')\n",
        "\n",
        "crime = []\n",
        "\n",
        "for year in range(2015, 2020):\n",
        "  crime.append(client.query('''\n",
        "  SELECT date, beat, district, ward, community_area, latitude, longitude, location\n",
        "  FROM `bigquery-public-data.chicago_crime.crime`\n",
        "  WHERE year = {}\n",
        "  ORDER BY date\n",
        "  '''.format(year)).to_dataframe())"
      ],
      "execution_count": 2,
      "outputs": []
    },
    {
      "cell_type": "code",
      "source": [
        "# Check for missing data\n",
        "index = 0\n",
        "for year in crime:\n",
        "  print('Missing Data ', 2015 + index, ':')\n",
        "  for column in year:\n",
        "    print('  ', column, ': ', year[column].isna().any())\n",
        "  index += 1\n",
        "  print()"
      ],
      "metadata": {
        "colab": {
          "base_uri": "https://localhost:8080/"
        },
        "id": "mwGLxeTZTMIS",
        "outputId": "f86876ee-3510-456b-eff9-ebef65abb1be"
      },
      "execution_count": 3,
      "outputs": [
        {
          "output_type": "stream",
          "name": "stdout",
          "text": [
            "Missing Data  2015 :\n",
            "   date :  False\n",
            "   beat :  False\n",
            "   district :  False\n",
            "   ward :  True\n",
            "   community_area :  False\n",
            "   latitude :  True\n",
            "   longitude :  True\n",
            "   location :  True\n",
            "\n",
            "Missing Data  2016 :\n",
            "   date :  False\n",
            "   beat :  False\n",
            "   district :  False\n",
            "   ward :  False\n",
            "   community_area :  False\n",
            "   latitude :  True\n",
            "   longitude :  True\n",
            "   location :  True\n",
            "\n",
            "Missing Data  2017 :\n",
            "   date :  False\n",
            "   beat :  False\n",
            "   district :  True\n",
            "   ward :  True\n",
            "   community_area :  False\n",
            "   latitude :  True\n",
            "   longitude :  True\n",
            "   location :  True\n",
            "\n",
            "Missing Data  2018 :\n",
            "   date :  False\n",
            "   beat :  False\n",
            "   district :  False\n",
            "   ward :  True\n",
            "   community_area :  False\n",
            "   latitude :  True\n",
            "   longitude :  True\n",
            "   location :  True\n",
            "\n",
            "Missing Data  2019 :\n",
            "   date :  False\n",
            "   beat :  False\n",
            "   district :  False\n",
            "   ward :  True\n",
            "   community_area :  False\n",
            "   latitude :  True\n",
            "   longitude :  True\n",
            "   location :  True\n",
            "\n"
          ]
        }
      ]
    },
    {
      "cell_type": "markdown",
      "source": [
        "\n",
        "\n",
        "*   district (2017), ward (2015/2017/2018/2019), latitude, longitude and location have missing data\n",
        "\n",
        "*   district and ward are linked\n",
        "\n",
        "*   latitude, longitude and location are linked"
      ],
      "metadata": {
        "id": "gTDEt1HdgDCS"
      }
    },
    {
      "cell_type": "code",
      "source": [
        "# Inspect missing data\n",
        "index = 0\n",
        "for year in crime:\n",
        "  print(2015 + index, ':')\n",
        "  total_rows = year.shape[0]\n",
        "  print('Total rows: ', total_rows)\n",
        "  missing_columns = ['district', 'ward', 'community_area', 'latitude', 'longitude', 'location']\n",
        "  for column in missing_columns:\n",
        "    missing_count = sum(year[column].isna())\n",
        "    print(column, ' missing count: ', missing_count, ' - Percentage of total: ', (missing_count/total_rows)*100)\n",
        "  index += 1\n",
        "  print()"
      ],
      "metadata": {
        "colab": {
          "base_uri": "https://localhost:8080/"
        },
        "id": "cego5SPk1Asv",
        "outputId": "8e4d654f-674e-47a5-8eb4-ed57e876680f"
      },
      "execution_count": 4,
      "outputs": [
        {
          "output_type": "stream",
          "name": "stdout",
          "text": [
            "2015 :\n",
            "Total rows:  264679\n",
            "district  missing count:  0  - Percentage of total:  0.0\n",
            "ward  missing count:  2  - Percentage of total:  0.00075563229421299\n",
            "community_area  missing count:  0  - Percentage of total:  0.0\n",
            "latitude  missing count:  6759  - Percentage of total:  2.5536593382927997\n",
            "longitude  missing count:  6759  - Percentage of total:  2.5536593382927997\n",
            "location  missing count:  6759  - Percentage of total:  2.5536593382927997\n",
            "\n",
            "2016 :\n",
            "Total rows:  269730\n",
            "district  missing count:  0  - Percentage of total:  0.0\n",
            "ward  missing count:  0  - Percentage of total:  0.0\n",
            "community_area  missing count:  0  - Percentage of total:  0.0\n",
            "latitude  missing count:  2471  - Percentage of total:  0.9161012864716569\n",
            "longitude  missing count:  2471  - Percentage of total:  0.9161012864716569\n",
            "location  missing count:  2471  - Percentage of total:  0.9161012864716569\n",
            "\n",
            "2017 :\n",
            "Total rows:  268963\n",
            "district  missing count:  1  - Percentage of total:  0.0003717983514461097\n",
            "ward  missing count:  1  - Percentage of total:  0.0003717983514461097\n",
            "community_area  missing count:  0  - Percentage of total:  0.0\n",
            "latitude  missing count:  4016  - Percentage of total:  1.4931421794075765\n",
            "longitude  missing count:  4016  - Percentage of total:  1.4931421794075765\n",
            "location  missing count:  4016  - Percentage of total:  1.4931421794075765\n",
            "\n",
            "2018 :\n",
            "Total rows:  268636\n",
            "district  missing count:  0  - Percentage of total:  0.0\n",
            "ward  missing count:  4  - Percentage of total:  0.0014890037076192321\n",
            "community_area  missing count:  0  - Percentage of total:  0.0\n",
            "latitude  missing count:  5169  - Percentage of total:  1.9241650411709528\n",
            "longitude  missing count:  5169  - Percentage of total:  1.9241650411709528\n",
            "location  missing count:  5169  - Percentage of total:  1.9241650411709528\n",
            "\n",
            "2019 :\n",
            "Total rows:  261088\n",
            "district  missing count:  0  - Percentage of total:  0.0\n",
            "ward  missing count:  15  - Percentage of total:  0.005745189361441353\n",
            "community_area  missing count:  0  - Percentage of total:  0.0\n",
            "latitude  missing count:  1939  - Percentage of total:  0.742661478122319\n",
            "longitude  missing count:  1939  - Percentage of total:  0.742661478122319\n",
            "location  missing count:  1939  - Percentage of total:  0.742661478122319\n",
            "\n"
          ]
        }
      ]
    },
    {
      "cell_type": "markdown",
      "source": [
        "*   latitude, longitude and location have equal numbers of missing data. If the missing items are all in the same rows the location column is not required.\n",
        "\n",
        "*   Potentially district, ward and community_area can be patched using each other's values. Further inspection to determine their usefulness should be completed first."
      ],
      "metadata": {
        "id": "nZjJK-7HgPnM"
      }
    },
    {
      "cell_type": "code",
      "source": [
        "# Check if latitude, longitude and location's missing data are all in the same rows.\n",
        "index = 0\n",
        "for year in crime:\n",
        "  print(sum(year['latitude'].isna() & year['longitude'].isna() & year['location'].isna()))\n",
        "  index += 1\n",
        "  print()"
      ],
      "metadata": {
        "colab": {
          "base_uri": "https://localhost:8080/"
        },
        "id": "LIt_NgSjw-WN",
        "outputId": "23f92bbc-32dc-45b3-fbbe-54b88f61a8a3"
      },
      "execution_count": 5,
      "outputs": [
        {
          "output_type": "stream",
          "name": "stdout",
          "text": [
            "6759\n",
            "\n",
            "2471\n",
            "\n",
            "4016\n",
            "\n",
            "5169\n",
            "\n",
            "1939\n",
            "\n"
          ]
        }
      ]
    },
    {
      "cell_type": "markdown",
      "source": [
        "* Figures match for each year, therefore all missing from the same row. Location column can be dropped."
      ],
      "metadata": {
        "id": "rvCY03LHgjWO"
      }
    },
    {
      "cell_type": "code",
      "source": [
        "# Drop the location field\n",
        "no_use = ['location']\n",
        "for year in crime:\n",
        "  year.drop(no_use, axis=1, inplace=True)"
      ],
      "metadata": {
        "id": "ipGjoDOhjxKa"
      },
      "execution_count": 6,
      "outputs": []
    },
    {
      "cell_type": "code",
      "source": [
        "crime[0].head()"
      ],
      "metadata": {
        "id": "vtEohJfaj8Xv",
        "outputId": "059c4698-09c2-4bc6-9074-c3eff8fc0252",
        "colab": {
          "base_uri": "https://localhost:8080/",
          "height": 206
        }
      },
      "execution_count": 7,
      "outputs": [
        {
          "output_type": "execute_result",
          "data": {
            "text/plain": [
              "                       date  beat  district  ward  community_area   latitude  \\\n",
              "0 2015-01-01 01:00:00+00:00  1432        14  32.0              22  41.917743   \n",
              "1 2015-01-01 01:00:00+00:00  1112        11  27.0              23  41.896226   \n",
              "2 2015-01-01 01:00:00+00:00   915         9  11.0              60  41.834670   \n",
              "3 2015-01-01 01:00:00+00:00  2431        24  49.0               1  42.005379   \n",
              "4 2015-01-01 01:00:00+00:00  1222        12  28.0              27  41.882807   \n",
              "\n",
              "   longitude  \n",
              "0 -87.678366  \n",
              "1 -87.718776  \n",
              "2 -87.646199  \n",
              "3 -87.670271  \n",
              "4 -87.705031  "
            ],
            "text/html": [
              "\n",
              "  <div id=\"df-91341121-0440-41fa-8c55-9bbb1d475b78\">\n",
              "    <div class=\"colab-df-container\">\n",
              "      <div>\n",
              "<style scoped>\n",
              "    .dataframe tbody tr th:only-of-type {\n",
              "        vertical-align: middle;\n",
              "    }\n",
              "\n",
              "    .dataframe tbody tr th {\n",
              "        vertical-align: top;\n",
              "    }\n",
              "\n",
              "    .dataframe thead th {\n",
              "        text-align: right;\n",
              "    }\n",
              "</style>\n",
              "<table border=\"1\" class=\"dataframe\">\n",
              "  <thead>\n",
              "    <tr style=\"text-align: right;\">\n",
              "      <th></th>\n",
              "      <th>date</th>\n",
              "      <th>beat</th>\n",
              "      <th>district</th>\n",
              "      <th>ward</th>\n",
              "      <th>community_area</th>\n",
              "      <th>latitude</th>\n",
              "      <th>longitude</th>\n",
              "    </tr>\n",
              "  </thead>\n",
              "  <tbody>\n",
              "    <tr>\n",
              "      <th>0</th>\n",
              "      <td>2015-01-01 01:00:00+00:00</td>\n",
              "      <td>1432</td>\n",
              "      <td>14</td>\n",
              "      <td>32.0</td>\n",
              "      <td>22</td>\n",
              "      <td>41.917743</td>\n",
              "      <td>-87.678366</td>\n",
              "    </tr>\n",
              "    <tr>\n",
              "      <th>1</th>\n",
              "      <td>2015-01-01 01:00:00+00:00</td>\n",
              "      <td>1112</td>\n",
              "      <td>11</td>\n",
              "      <td>27.0</td>\n",
              "      <td>23</td>\n",
              "      <td>41.896226</td>\n",
              "      <td>-87.718776</td>\n",
              "    </tr>\n",
              "    <tr>\n",
              "      <th>2</th>\n",
              "      <td>2015-01-01 01:00:00+00:00</td>\n",
              "      <td>915</td>\n",
              "      <td>9</td>\n",
              "      <td>11.0</td>\n",
              "      <td>60</td>\n",
              "      <td>41.834670</td>\n",
              "      <td>-87.646199</td>\n",
              "    </tr>\n",
              "    <tr>\n",
              "      <th>3</th>\n",
              "      <td>2015-01-01 01:00:00+00:00</td>\n",
              "      <td>2431</td>\n",
              "      <td>24</td>\n",
              "      <td>49.0</td>\n",
              "      <td>1</td>\n",
              "      <td>42.005379</td>\n",
              "      <td>-87.670271</td>\n",
              "    </tr>\n",
              "    <tr>\n",
              "      <th>4</th>\n",
              "      <td>2015-01-01 01:00:00+00:00</td>\n",
              "      <td>1222</td>\n",
              "      <td>12</td>\n",
              "      <td>28.0</td>\n",
              "      <td>27</td>\n",
              "      <td>41.882807</td>\n",
              "      <td>-87.705031</td>\n",
              "    </tr>\n",
              "  </tbody>\n",
              "</table>\n",
              "</div>\n",
              "      <button class=\"colab-df-convert\" onclick=\"convertToInteractive('df-91341121-0440-41fa-8c55-9bbb1d475b78')\"\n",
              "              title=\"Convert this dataframe to an interactive table.\"\n",
              "              style=\"display:none;\">\n",
              "        \n",
              "  <svg xmlns=\"http://www.w3.org/2000/svg\" height=\"24px\"viewBox=\"0 0 24 24\"\n",
              "       width=\"24px\">\n",
              "    <path d=\"M0 0h24v24H0V0z\" fill=\"none\"/>\n",
              "    <path d=\"M18.56 5.44l.94 2.06.94-2.06 2.06-.94-2.06-.94-.94-2.06-.94 2.06-2.06.94zm-11 1L8.5 8.5l.94-2.06 2.06-.94-2.06-.94L8.5 2.5l-.94 2.06-2.06.94zm10 10l.94 2.06.94-2.06 2.06-.94-2.06-.94-.94-2.06-.94 2.06-2.06.94z\"/><path d=\"M17.41 7.96l-1.37-1.37c-.4-.4-.92-.59-1.43-.59-.52 0-1.04.2-1.43.59L10.3 9.45l-7.72 7.72c-.78.78-.78 2.05 0 2.83L4 21.41c.39.39.9.59 1.41.59.51 0 1.02-.2 1.41-.59l7.78-7.78 2.81-2.81c.8-.78.8-2.07 0-2.86zM5.41 20L4 18.59l7.72-7.72 1.47 1.35L5.41 20z\"/>\n",
              "  </svg>\n",
              "      </button>\n",
              "      \n",
              "  <style>\n",
              "    .colab-df-container {\n",
              "      display:flex;\n",
              "      flex-wrap:wrap;\n",
              "      gap: 12px;\n",
              "    }\n",
              "\n",
              "    .colab-df-convert {\n",
              "      background-color: #E8F0FE;\n",
              "      border: none;\n",
              "      border-radius: 50%;\n",
              "      cursor: pointer;\n",
              "      display: none;\n",
              "      fill: #1967D2;\n",
              "      height: 32px;\n",
              "      padding: 0 0 0 0;\n",
              "      width: 32px;\n",
              "    }\n",
              "\n",
              "    .colab-df-convert:hover {\n",
              "      background-color: #E2EBFA;\n",
              "      box-shadow: 0px 1px 2px rgba(60, 64, 67, 0.3), 0px 1px 3px 1px rgba(60, 64, 67, 0.15);\n",
              "      fill: #174EA6;\n",
              "    }\n",
              "\n",
              "    [theme=dark] .colab-df-convert {\n",
              "      background-color: #3B4455;\n",
              "      fill: #D2E3FC;\n",
              "    }\n",
              "\n",
              "    [theme=dark] .colab-df-convert:hover {\n",
              "      background-color: #434B5C;\n",
              "      box-shadow: 0px 1px 3px 1px rgba(0, 0, 0, 0.15);\n",
              "      filter: drop-shadow(0px 1px 2px rgba(0, 0, 0, 0.3));\n",
              "      fill: #FFFFFF;\n",
              "    }\n",
              "  </style>\n",
              "\n",
              "      <script>\n",
              "        const buttonEl =\n",
              "          document.querySelector('#df-91341121-0440-41fa-8c55-9bbb1d475b78 button.colab-df-convert');\n",
              "        buttonEl.style.display =\n",
              "          google.colab.kernel.accessAllowed ? 'block' : 'none';\n",
              "\n",
              "        async function convertToInteractive(key) {\n",
              "          const element = document.querySelector('#df-91341121-0440-41fa-8c55-9bbb1d475b78');\n",
              "          const dataTable =\n",
              "            await google.colab.kernel.invokeFunction('convertToInteractive',\n",
              "                                                     [key], {});\n",
              "          if (!dataTable) return;\n",
              "\n",
              "          const docLinkHtml = 'Like what you see? Visit the ' +\n",
              "            '<a target=\"_blank\" href=https://colab.research.google.com/notebooks/data_table.ipynb>data table notebook</a>'\n",
              "            + ' to learn more about interactive tables.';\n",
              "          element.innerHTML = '';\n",
              "          dataTable['output_type'] = 'display_data';\n",
              "          await google.colab.output.renderOutput(dataTable, element);\n",
              "          const docLink = document.createElement('div');\n",
              "          docLink.innerHTML = docLinkHtml;\n",
              "          element.appendChild(docLink);\n",
              "        }\n",
              "      </script>\n",
              "    </div>\n",
              "  </div>\n",
              "  "
            ]
          },
          "metadata": {},
          "execution_count": 7
        }
      ]
    },
    {
      "cell_type": "code",
      "source": [
        "# Inspect beat, district, ward, community_area\n",
        "index = 0\n",
        "for year in crime:\n",
        "  print(2015 + index, ':')\n",
        "  columns = ['beat', 'district', 'ward', 'community_area']\n",
        "  for column in columns:\n",
        "    unique_count = year[column].nunique()\n",
        "    print(column, ' unique count: ', unique_count)\n",
        "  index += 1\n",
        "  print()"
      ],
      "metadata": {
        "colab": {
          "base_uri": "https://localhost:8080/"
        },
        "id": "OABL8-sNaRjx",
        "outputId": "7458d1e0-3d26-4895-9a34-4e43ec08b80c"
      },
      "execution_count": 8,
      "outputs": [
        {
          "output_type": "stream",
          "name": "stdout",
          "text": [
            "2015 :\n",
            "beat  unique count:  274\n",
            "district  unique count:  23\n",
            "ward  unique count:  50\n",
            "community_area  unique count:  77\n",
            "\n",
            "2016 :\n",
            "beat  unique count:  274\n",
            "district  unique count:  23\n",
            "ward  unique count:  50\n",
            "community_area  unique count:  77\n",
            "\n",
            "2017 :\n",
            "beat  unique count:  274\n",
            "district  unique count:  23\n",
            "ward  unique count:  50\n",
            "community_area  unique count:  77\n",
            "\n",
            "2018 :\n",
            "beat  unique count:  274\n",
            "district  unique count:  23\n",
            "ward  unique count:  50\n",
            "community_area  unique count:  77\n",
            "\n",
            "2019 :\n",
            "beat  unique count:  274\n",
            "district  unique count:  23\n",
            "ward  unique count:  50\n",
            "community_area  unique count:  77\n",
            "\n"
          ]
        }
      ]
    },
    {
      "cell_type": "markdown",
      "source": [
        "* Identical figures for each year suggest these are the total numbers of each beat, district, ward and community_area\n",
        "\n",
        "* beat has the largest number of unique values (274) and so must be the narrowest area.\n",
        "As the smallest area, the average latitude / longitude per beat is the best solution available to fill the missing data in those columns.\n",
        "\n",
        "* district has the lowest number of unique values (23) and so must be the widest area.\n",
        "This could be useful for the DNN, however the missing row in 2017 will need addressing "
      ],
      "metadata": {
        "id": "BJH0IoSxhCjs"
      }
    },
    {
      "cell_type": "code",
      "source": [
        "# Fill missing latitude / longitude data\n",
        "for year in crime:\n",
        "  beats = year['beat'].unique().tolist()\n",
        "\n",
        "  for beat in beats:\n",
        "    year.loc[(year['beat'] == beat) & (year['latitude'].isnull()), 'latitude'] = year[year['beat'] == beat]['latitude'].mean(axis = 0, skipna = True)\n",
        "    year.loc[(year['beat'] == beat) & (year['longitude'].isnull()), 'longitude'] = year[year['beat'] == beat]['longitude'].mean(axis = 0, skipna = True)"
      ],
      "metadata": {
        "id": "GRvzGNeAjsYk"
      },
      "execution_count": 9,
      "outputs": []
    },
    {
      "cell_type": "code",
      "source": [
        "# Fill missing district in 2017\n",
        "ward = crime[2].loc[crime[2]['district'].isnull(), 'ward'].values[0]\n",
        "district = crime[2].loc[crime[2]['ward'] == ward]['district'].mode().values[0]\n",
        "crime[2].loc[crime[2]['district'].isnull(), 'district'] = district"
      ],
      "metadata": {
        "id": "-iYQKp7qr8eq"
      },
      "execution_count": 10,
      "outputs": []
    },
    {
      "cell_type": "code",
      "source": [
        "# Convert the datetime to date column\n",
        "for year in crime:\n",
        "  year['date'] = pd.to_datetime(year['date']).dt.date"
      ],
      "metadata": {
        "id": "I-Sdukfuiti_"
      },
      "execution_count": 11,
      "outputs": []
    },
    {
      "cell_type": "code",
      "source": [
        "# Add day_of_week column containing the day of the week: Monday 1 ... Sunday 7\n",
        "jan_01 = [4, 5, 7, 1, 2]\n",
        "\n",
        "def get_date_day(date_str):\n",
        "  return date_str[8:]\n",
        "\n",
        "for year in range(len(jan_01)):\n",
        "  curr_date_day = '01'\n",
        "  curr_d_o_w = jan_01[year]\n",
        "  d_o_w = []\n",
        "\n",
        "  for date_str in crime[year]['date']:\n",
        "    date_day = get_date_day(date_str.strftime('%Y-%m-%d'))\n",
        "    if date_day != curr_date_day:\n",
        "      curr_date_day = date_day\n",
        "      curr_d_o_w += 1\n",
        "      if curr_d_o_w == 8:\n",
        "        curr_d_o_w = 1\n",
        "    d_o_w.append(curr_d_o_w)\n",
        "  crime[year]['day_of_week'] = d_o_w"
      ],
      "metadata": {
        "id": "eaTKFS33MAsa"
      },
      "execution_count": 12,
      "outputs": []
    },
    {
      "cell_type": "code",
      "source": [
        "# Calculate the closest of the three chosen weather stations and append a column containing the station's usaf\n",
        "\n",
        "import math\n",
        "\n",
        "def distance(a, b):\n",
        "  x_component = (b[0] - a[0]) ** 2\n",
        "  y_component = (b[1] - a[1]) ** 2\n",
        "  return math.sqrt(x_component + y_component)\n",
        "\n",
        "stations = {'stn': [722126, 725300, 725340],\n",
        "            'lat': [41.54, 41.96, 41.786],\n",
        "            'lon': [-87.532, -87.932, -87.752]}\n",
        "\n",
        "for year in crime:\n",
        "  stns = []\n",
        "  for row in year.itertuples(False, None):\n",
        "    min_distance = 999\n",
        "    nearest_stn = None\n",
        "    a = [row[5], row[6]]\n",
        "    for index in range(len(stations)):\n",
        "      b = [stations['lat'][index], stations['lon'][index]]\n",
        "      distance_ab = distance(a, b)\n",
        "      if distance_ab < min_distance:\n",
        "        min_distance = distance_ab\n",
        "        nearest_stn = stations['stn'][index]\n",
        "    stns.append(nearest_stn)\n",
        "  year['station'] = stns"
      ],
      "metadata": {
        "id": "Sb6bO1zQHxMb"
      },
      "execution_count": 13,
      "outputs": []
    },
    {
      "cell_type": "code",
      "source": [
        "for year in crime:\n",
        "  year['total_crimes'] = year.date.map(year.date.value_counts())"
      ],
      "metadata": {
        "id": "OTBCRKGYPo8a"
      },
      "execution_count": 14,
      "outputs": []
    },
    {
      "cell_type": "code",
      "source": [
        "# Drop the remaining unnecessary fields\n",
        "no_use = ['beat', 'ward', 'community_area', 'latitude', 'longitude']\n",
        "for year in crime:\n",
        "  year.drop(no_use, axis=1, inplace=True)"
      ],
      "metadata": {
        "id": "UkC0kn0SpHjI"
      },
      "execution_count": 15,
      "outputs": []
    },
    {
      "cell_type": "code",
      "source": [
        "crime[0].head(2)"
      ],
      "metadata": {
        "id": "e7OUxXyLfGAo",
        "outputId": "97fe61a3-85aa-425d-bbad-20b709a80969",
        "colab": {
          "base_uri": "https://localhost:8080/",
          "height": 112
        }
      },
      "execution_count": 17,
      "outputs": [
        {
          "output_type": "execute_result",
          "data": {
            "text/plain": [
              "         date  district  day_of_week  station  total_crimes\n",
              "0  2015-01-01        14            4   725340          1241\n",
              "1  2015-01-01        11            4   725340          1241"
            ],
            "text/html": [
              "\n",
              "  <div id=\"df-a709f0d3-2b2c-4492-91e9-14de5b570cae\">\n",
              "    <div class=\"colab-df-container\">\n",
              "      <div>\n",
              "<style scoped>\n",
              "    .dataframe tbody tr th:only-of-type {\n",
              "        vertical-align: middle;\n",
              "    }\n",
              "\n",
              "    .dataframe tbody tr th {\n",
              "        vertical-align: top;\n",
              "    }\n",
              "\n",
              "    .dataframe thead th {\n",
              "        text-align: right;\n",
              "    }\n",
              "</style>\n",
              "<table border=\"1\" class=\"dataframe\">\n",
              "  <thead>\n",
              "    <tr style=\"text-align: right;\">\n",
              "      <th></th>\n",
              "      <th>date</th>\n",
              "      <th>district</th>\n",
              "      <th>day_of_week</th>\n",
              "      <th>station</th>\n",
              "      <th>total_crimes</th>\n",
              "    </tr>\n",
              "  </thead>\n",
              "  <tbody>\n",
              "    <tr>\n",
              "      <th>0</th>\n",
              "      <td>2015-01-01</td>\n",
              "      <td>14</td>\n",
              "      <td>4</td>\n",
              "      <td>725340</td>\n",
              "      <td>1241</td>\n",
              "    </tr>\n",
              "    <tr>\n",
              "      <th>1</th>\n",
              "      <td>2015-01-01</td>\n",
              "      <td>11</td>\n",
              "      <td>4</td>\n",
              "      <td>725340</td>\n",
              "      <td>1241</td>\n",
              "    </tr>\n",
              "  </tbody>\n",
              "</table>\n",
              "</div>\n",
              "      <button class=\"colab-df-convert\" onclick=\"convertToInteractive('df-a709f0d3-2b2c-4492-91e9-14de5b570cae')\"\n",
              "              title=\"Convert this dataframe to an interactive table.\"\n",
              "              style=\"display:none;\">\n",
              "        \n",
              "  <svg xmlns=\"http://www.w3.org/2000/svg\" height=\"24px\"viewBox=\"0 0 24 24\"\n",
              "       width=\"24px\">\n",
              "    <path d=\"M0 0h24v24H0V0z\" fill=\"none\"/>\n",
              "    <path d=\"M18.56 5.44l.94 2.06.94-2.06 2.06-.94-2.06-.94-.94-2.06-.94 2.06-2.06.94zm-11 1L8.5 8.5l.94-2.06 2.06-.94-2.06-.94L8.5 2.5l-.94 2.06-2.06.94zm10 10l.94 2.06.94-2.06 2.06-.94-2.06-.94-.94-2.06-.94 2.06-2.06.94z\"/><path d=\"M17.41 7.96l-1.37-1.37c-.4-.4-.92-.59-1.43-.59-.52 0-1.04.2-1.43.59L10.3 9.45l-7.72 7.72c-.78.78-.78 2.05 0 2.83L4 21.41c.39.39.9.59 1.41.59.51 0 1.02-.2 1.41-.59l7.78-7.78 2.81-2.81c.8-.78.8-2.07 0-2.86zM5.41 20L4 18.59l7.72-7.72 1.47 1.35L5.41 20z\"/>\n",
              "  </svg>\n",
              "      </button>\n",
              "      \n",
              "  <style>\n",
              "    .colab-df-container {\n",
              "      display:flex;\n",
              "      flex-wrap:wrap;\n",
              "      gap: 12px;\n",
              "    }\n",
              "\n",
              "    .colab-df-convert {\n",
              "      background-color: #E8F0FE;\n",
              "      border: none;\n",
              "      border-radius: 50%;\n",
              "      cursor: pointer;\n",
              "      display: none;\n",
              "      fill: #1967D2;\n",
              "      height: 32px;\n",
              "      padding: 0 0 0 0;\n",
              "      width: 32px;\n",
              "    }\n",
              "\n",
              "    .colab-df-convert:hover {\n",
              "      background-color: #E2EBFA;\n",
              "      box-shadow: 0px 1px 2px rgba(60, 64, 67, 0.3), 0px 1px 3px 1px rgba(60, 64, 67, 0.15);\n",
              "      fill: #174EA6;\n",
              "    }\n",
              "\n",
              "    [theme=dark] .colab-df-convert {\n",
              "      background-color: #3B4455;\n",
              "      fill: #D2E3FC;\n",
              "    }\n",
              "\n",
              "    [theme=dark] .colab-df-convert:hover {\n",
              "      background-color: #434B5C;\n",
              "      box-shadow: 0px 1px 3px 1px rgba(0, 0, 0, 0.15);\n",
              "      filter: drop-shadow(0px 1px 2px rgba(0, 0, 0, 0.3));\n",
              "      fill: #FFFFFF;\n",
              "    }\n",
              "  </style>\n",
              "\n",
              "      <script>\n",
              "        const buttonEl =\n",
              "          document.querySelector('#df-a709f0d3-2b2c-4492-91e9-14de5b570cae button.colab-df-convert');\n",
              "        buttonEl.style.display =\n",
              "          google.colab.kernel.accessAllowed ? 'block' : 'none';\n",
              "\n",
              "        async function convertToInteractive(key) {\n",
              "          const element = document.querySelector('#df-a709f0d3-2b2c-4492-91e9-14de5b570cae');\n",
              "          const dataTable =\n",
              "            await google.colab.kernel.invokeFunction('convertToInteractive',\n",
              "                                                     [key], {});\n",
              "          if (!dataTable) return;\n",
              "\n",
              "          const docLinkHtml = 'Like what you see? Visit the ' +\n",
              "            '<a target=\"_blank\" href=https://colab.research.google.com/notebooks/data_table.ipynb>data table notebook</a>'\n",
              "            + ' to learn more about interactive tables.';\n",
              "          element.innerHTML = '';\n",
              "          dataTable['output_type'] = 'display_data';\n",
              "          await google.colab.output.renderOutput(dataTable, element);\n",
              "          const docLink = document.createElement('div');\n",
              "          docLink.innerHTML = docLinkHtml;\n",
              "          element.appendChild(docLink);\n",
              "        }\n",
              "      </script>\n",
              "    </div>\n",
              "  </div>\n",
              "  "
            ]
          },
          "metadata": {},
          "execution_count": 17
        }
      ]
    },
    {
      "cell_type": "code",
      "source": [
        "# Count crimes per day in each district\n",
        "\n",
        "districts = []\n",
        "for year in crime:\n",
        "  districts.append(year.groupby(['date', 'day_of_week','district'])['date'].count().reset_index(name='crime_count'))\n"
      ],
      "metadata": {
        "id": "xNxG9iA8uY46"
      },
      "execution_count": 29,
      "outputs": []
    },
    {
      "cell_type": "code",
      "source": [
        "for year in crime:\n",
        "  year.plot(x = 'date', y = 'total_crimes', kind = 'scatter')"
      ],
      "metadata": {
        "id": "ZMnscOUNe93o",
        "outputId": "601e2194-9913-4766-8a04-8dd2a4d19fe9",
        "colab": {
          "base_uri": "https://localhost:8080/",
          "height": 1000
        }
      },
      "execution_count": null,
      "outputs": [
        {
          "output_type": "display_data",
          "data": {
            "text/plain": [
              "<Figure size 432x288 with 1 Axes>"
            ],
            "image/png": "[encoded data removed]"
          },
          "metadata": {
            "needs_background": "light"
          }
        },
        {
          "output_type": "display_data",
          "data": {
            "text/plain": [
              "<Figure size 432x288 with 1 Axes>"
            ],
            "image/png": "[encoded data removed]"
          },
          "metadata": {
            "needs_background": "light"
          }
        },
        {
          "output_type": "display_data",
          "data": {
            "text/plain": [
              "<Figure size 432x288 with 1 Axes>"
            ],
            "image/png": "[encoded data removed]"
          },
          "metadata": {
            "needs_background": "light"
          }
        },
        {
          "output_type": "display_data",
          "data": {
            "text/plain": [
              "<Figure size 432x288 with 1 Axes>"
            ],
            "image/png": "[encoded data removed]"
          },
          "metadata": {
            "needs_background": "light"
          }
        },
        {
          "output_type": "display_data",
          "data": {
            "text/plain": [
              "<Figure size 432x288 with 1 Axes>"
            ],
            "image/png": "[encoded data removed]"
          },
          "metadata": {
            "needs_background": "light"
          }
        }
      ]
    },
    {
      "cell_type": "code",
      "source": [
        "day__num_crimes = pd.DataFrame({\n",
        "    'day_of_week': crime[1]['day_of_week'].drop_duplicates().sort_values(),\n",
        "    # '2016': crime[0]['day_of_year'].value_counts().sort_index(ascending=True).tolist(),\n",
        "    '2017': crime[1]['day_of_week'].value_counts().sort_index(ascending=True).tolist(),\n",
        "    '2018': crime[2]['day_of_week'].value_counts().sort_index(ascending=True).tolist(),\n",
        "    '2019': crime[3]['day_of_week'].value_counts().sort_index(ascending=True).tolist(),\n",
        "    # '2020': crime[4]['day_of_year'].value_counts().sort_index(ascending=True).tolist()\n",
        "})\n",
        "day__num_crimes.plot.scatter(x = ['day_of_week', 'day_of_week', 'day_of_week'], y = [ '2017', '2018', '2019',], c = ['blue', 'red', 'green','blue', 'red', 'green','blue', 'red', 'green','blue', 'red', 'green','blue', 'red', 'green','blue', 'red', 'green','blue', 'red', 'green',])"
      ],
      "metadata": {
        "id": "ARbGMEgkheNS",
        "outputId": "efc69591-7aec-439a-fec5-dd6aebc39064",
        "colab": {
          "base_uri": "https://localhost:8080/",
          "height": 297
        }
      },
      "execution_count": null,
      "outputs": [
        {
          "output_type": "execute_result",
          "data": {
            "text/plain": [
              "<matplotlib.axes._subplots.AxesSubplot at 0x7f4e220a9c50>"
            ]
          },
          "metadata": {},
          "execution_count": 93
        },
        {
          "output_type": "display_data",
          "data": {
            "text/plain": [
              "<Figure size 432x288 with 1 Axes>"
            ],
            "image/png": "[encoded data removed]"
          },
          "metadata": {
            "needs_background": "light"
          }
        }
      ]
    },
    {
      "cell_type": "code",
      "metadata": {
        "id": "Nc4cJtW6mGm9",
        "colab": {
          "base_uri": "https://localhost:8080/",
          "height": 17
        },
        "outputId": "2f634b1b-a561-42fe-8869-93eff75698a0"
      },
      "source": [
        "# Save crime data to CSV files.\n",
        "\n",
        "names = ['c_2015', 'c_2016', 'c_2017', 'c_2018', 'c_2019']\n",
        "\n",
        "# for index in range(len(names)):\n",
        "#   with open('/gdrive/My Drive/assignment/data/crime/{}.csv'.format(names[index]), 'w') as f:\n",
        "#     crime[index].to_csv(f)\n",
        "\n",
        "for index in range(len(names)):\n",
        "  crime[index].to_csv('{}.csv'.format(names[index])) \n",
        "  files.download('{}.csv'.format(names[index]))\n"
      ],
      "execution_count": null,
      "outputs": [
        {
          "output_type": "display_data",
          "data": {
            "text/plain": [
              "<IPython.core.display.Javascript object>"
            ],
            "application/javascript": [
              "\n",
              "    async function download(id, filename, size) {\n",
              "      if (!google.colab.kernel.accessAllowed) {\n",
              "        return;\n",
              "      }\n",
              "      const div = document.createElement('div');\n",
              "      const label = document.createElement('label');\n",
              "      label.textContent = `Downloading \"${filename}\": `;\n",
              "      div.appendChild(label);\n",
              "      const progress = document.createElement('progress');\n",
              "      progress.max = size;\n",
              "      div.appendChild(progress);\n",
              "      document.body.appendChild(div);\n",
              "\n",
              "      const buffers = [];\n",
              "      let downloaded = 0;\n",
              "\n",
              "      const channel = await google.colab.kernel.comms.open(id);\n",
              "      // Send a message to notify the kernel that we're ready.\n",
              "      channel.send({})\n",
              "\n",
              "      for await (const message of channel.messages) {\n",
              "        // Send a message to notify the kernel that we're ready.\n",
              "        channel.send({})\n",
              "        if (message.buffers) {\n",
              "          for (const buffer of message.buffers) {\n",
              "            buffers.push(buffer);\n",
              "            downloaded += buffer.byteLength;\n",
              "            progress.value = downloaded;\n",
              "          }\n",
              "        }\n",
              "      }\n",
              "      const blob = new Blob(buffers, {type: 'application/binary'});\n",
              "      const a = document.createElement('a');\n",
              "      a.href = window.URL.createObjectURL(blob);\n",
              "      a.download = filename;\n",
              "      div.appendChild(a);\n",
              "      a.click();\n",
              "      div.remove();\n",
              "    }\n",
              "  "
            ]
          },
          "metadata": {}
        },
        {
          "output_type": "display_data",
          "data": {
            "text/plain": [
              "<IPython.core.display.Javascript object>"
            ],
            "application/javascript": [
              "download(\"download_77cf28d9-afa6-49cf-bd05-d35688c607e8\", \"c_2015.csv\", 8765318)"
            ]
          },
          "metadata": {}
        },
        {
          "output_type": "display_data",
          "data": {
            "text/plain": [
              "<IPython.core.display.Javascript object>"
            ],
            "application/javascript": [
              "\n",
              "    async function download(id, filename, size) {\n",
              "      if (!google.colab.kernel.accessAllowed) {\n",
              "        return;\n",
              "      }\n",
              "      const div = document.createElement('div');\n",
              "      const label = document.createElement('label');\n",
              "      label.textContent = `Downloading \"${filename}\": `;\n",
              "      div.appendChild(label);\n",
              "      const progress = document.createElement('progress');\n",
              "      progress.max = size;\n",
              "      div.appendChild(progress);\n",
              "      document.body.appendChild(div);\n",
              "\n",
              "      const buffers = [];\n",
              "      let downloaded = 0;\n",
              "\n",
              "      const channel = await google.colab.kernel.comms.open(id);\n",
              "      // Send a message to notify the kernel that we're ready.\n",
              "      channel.send({})\n",
              "\n",
              "      for await (const message of channel.messages) {\n",
              "        // Send a message to notify the kernel that we're ready.\n",
              "        channel.send({})\n",
              "        if (message.buffers) {\n",
              "          for (const buffer of message.buffers) {\n",
              "            buffers.push(buffer);\n",
              "            downloaded += buffer.byteLength;\n",
              "            progress.value = downloaded;\n",
              "          }\n",
              "        }\n",
              "      }\n",
              "      const blob = new Blob(buffers, {type: 'application/binary'});\n",
              "      const a = document.createElement('a');\n",
              "      a.href = window.URL.createObjectURL(blob);\n",
              "      a.download = filename;\n",
              "      div.appendChild(a);\n",
              "      a.click();\n",
              "      div.remove();\n",
              "    }\n",
              "  "
            ]
          },
          "metadata": {}
        },
        {
          "output_type": "display_data",
          "data": {
            "text/plain": [
              "<IPython.core.display.Javascript object>"
            ],
            "application/javascript": [
              "download(\"download_aa43211b-e632-4012-aa7d-e88ce99f7cc8\", \"c_2016.csv\", 8936840)"
            ]
          },
          "metadata": {}
        },
        {
          "output_type": "display_data",
          "data": {
            "text/plain": [
              "<IPython.core.display.Javascript object>"
            ],
            "application/javascript": [
              "\n",
              "    async function download(id, filename, size) {\n",
              "      if (!google.colab.kernel.accessAllowed) {\n",
              "        return;\n",
              "      }\n",
              "      const div = document.createElement('div');\n",
              "      const label = document.createElement('label');\n",
              "      label.textContent = `Downloading \"${filename}\": `;\n",
              "      div.appendChild(label);\n",
              "      const progress = document.createElement('progress');\n",
              "      progress.max = size;\n",
              "      div.appendChild(progress);\n",
              "      document.body.appendChild(div);\n",
              "\n",
              "      const buffers = [];\n",
              "      let downloaded = 0;\n",
              "\n",
              "      const channel = await google.colab.kernel.comms.open(id);\n",
              "      // Send a message to notify the kernel that we're ready.\n",
              "      channel.send({})\n",
              "\n",
              "      for await (const message of channel.messages) {\n",
              "        // Send a message to notify the kernel that we're ready.\n",
              "        channel.send({})\n",
              "        if (message.buffers) {\n",
              "          for (const buffer of message.buffers) {\n",
              "            buffers.push(buffer);\n",
              "            downloaded += buffer.byteLength;\n",
              "            progress.value = downloaded;\n",
              "          }\n",
              "        }\n",
              "      }\n",
              "      const blob = new Blob(buffers, {type: 'application/binary'});\n",
              "      const a = document.createElement('a');\n",
              "      a.href = window.URL.createObjectURL(blob);\n",
              "      a.download = filename;\n",
              "      div.appendChild(a);\n",
              "      a.click();\n",
              "      div.remove();\n",
              "    }\n",
              "  "
            ]
          },
          "metadata": {}
        },
        {
          "output_type": "display_data",
          "data": {
            "text/plain": [
              "<IPython.core.display.Javascript object>"
            ],
            "application/javascript": [
              "download(\"download_249a168f-f434-4532-96ef-18e721ebad69\", \"c_2017.csv\", 9447743)"
            ]
          },
          "metadata": {}
        },
        {
          "output_type": "display_data",
          "data": {
            "text/plain": [
              "<IPython.core.display.Javascript object>"
            ],
            "application/javascript": [
              "\n",
              "    async function download(id, filename, size) {\n",
              "      if (!google.colab.kernel.accessAllowed) {\n",
              "        return;\n",
              "      }\n",
              "      const div = document.createElement('div');\n",
              "      const label = document.createElement('label');\n",
              "      label.textContent = `Downloading \"${filename}\": `;\n",
              "      div.appendChild(label);\n",
              "      const progress = document.createElement('progress');\n",
              "      progress.max = size;\n",
              "      div.appendChild(progress);\n",
              "      document.body.appendChild(div);\n",
              "\n",
              "      const buffers = [];\n",
              "      let downloaded = 0;\n",
              "\n",
              "      const channel = await google.colab.kernel.comms.open(id);\n",
              "      // Send a message to notify the kernel that we're ready.\n",
              "      channel.send({})\n",
              "\n",
              "      for await (const message of channel.messages) {\n",
              "        // Send a message to notify the kernel that we're ready.\n",
              "        channel.send({})\n",
              "        if (message.buffers) {\n",
              "          for (const buffer of message.buffers) {\n",
              "            buffers.push(buffer);\n",
              "            downloaded += buffer.byteLength;\n",
              "            progress.value = downloaded;\n",
              "          }\n",
              "        }\n",
              "      }\n",
              "      const blob = new Blob(buffers, {type: 'application/binary'});\n",
              "      const a = document.createElement('a');\n",
              "      a.href = window.URL.createObjectURL(blob);\n",
              "      a.download = filename;\n",
              "      div.appendChild(a);\n",
              "      a.click();\n",
              "      div.remove();\n",
              "    }\n",
              "  "
            ]
          },
          "metadata": {}
        },
        {
          "output_type": "display_data",
          "data": {
            "text/plain": [
              "<IPython.core.display.Javascript object>"
            ],
            "application/javascript": [
              "download(\"download_b74ac0a4-b840-4429-b178-1a22046b3c95\", \"c_2018.csv\", 8899970)"
            ]
          },
          "metadata": {}
        },
        {
          "output_type": "display_data",
          "data": {
            "text/plain": [
              "<IPython.core.display.Javascript object>"
            ],
            "application/javascript": [
              "\n",
              "    async function download(id, filename, size) {\n",
              "      if (!google.colab.kernel.accessAllowed) {\n",
              "        return;\n",
              "      }\n",
              "      const div = document.createElement('div');\n",
              "      const label = document.createElement('label');\n",
              "      label.textContent = `Downloading \"${filename}\": `;\n",
              "      div.appendChild(label);\n",
              "      const progress = document.createElement('progress');\n",
              "      progress.max = size;\n",
              "      div.appendChild(progress);\n",
              "      document.body.appendChild(div);\n",
              "\n",
              "      const buffers = [];\n",
              "      let downloaded = 0;\n",
              "\n",
              "      const channel = await google.colab.kernel.comms.open(id);\n",
              "      // Send a message to notify the kernel that we're ready.\n",
              "      channel.send({})\n",
              "\n",
              "      for await (const message of channel.messages) {\n",
              "        // Send a message to notify the kernel that we're ready.\n",
              "        channel.send({})\n",
              "        if (message.buffers) {\n",
              "          for (const buffer of message.buffers) {\n",
              "            buffers.push(buffer);\n",
              "            downloaded += buffer.byteLength;\n",
              "            progress.value = downloaded;\n",
              "          }\n",
              "        }\n",
              "      }\n",
              "      const blob = new Blob(buffers, {type: 'application/binary'});\n",
              "      const a = document.createElement('a');\n",
              "      a.href = window.URL.createObjectURL(blob);\n",
              "      a.download = filename;\n",
              "      div.appendChild(a);\n",
              "      a.click();\n",
              "      div.remove();\n",
              "    }\n",
              "  "
            ]
          },
          "metadata": {}
        },
        {
          "output_type": "display_data",
          "data": {
            "text/plain": [
              "<IPython.core.display.Javascript object>"
            ],
            "application/javascript": [
              "download(\"download_bf281527-937c-42e7-ae7f-084de14041a2\", \"c_2019.csv\", 8645004)"
            ]
          },
          "metadata": {}
        }
      ]
    }
  ]
}
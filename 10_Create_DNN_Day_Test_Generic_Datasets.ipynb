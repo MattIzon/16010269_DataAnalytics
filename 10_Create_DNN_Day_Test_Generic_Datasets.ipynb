{
  "nbformat": 4,
  "nbformat_minor": 0,
  "metadata": {
    "colab": {
      "name": "Untitled0.ipynb",
      "provenance": [],
      "authorship_tag": "ABX9TyPeNMt4I79N4UcAZGgr0t10",
      "include_colab_link": true
    },
    "kernelspec": {
      "name": "python3",
      "display_name": "Python 3"
    },
    "language_info": {
      "name": "python"
    }
  },
  "cells": [
    {
      "cell_type": "markdown",
      "metadata": {
        "id": "view-in-github",
        "colab_type": "text"
      },
      "source": [
        "<a href=\"https://colab.research.google.com/github/MattIzon/16010269_DataAnalytics/blob/main/10_Create_DNN_Day_Test_Generic_Datasets.ipynb\" target=\"_parent\"><img src=\"https://colab.research.google.com/assets/colab-badge.svg\" alt=\"Open In Colab\"/></a>"
      ]
    },
    {
      "cell_type": "code",
      "source": [
        "# Set-up\n",
        "import pandas as pd\n",
        "import numpy as np\n",
        "from google.colab import files\n",
        "\n",
        "pd.set_option('display.max_columns', None)\n",
        "\n",
        "\n",
        "def one_hot(df, column):\n",
        "    o_h = pd.get_dummies(df[column])\n",
        "    new = pd.concat([df, o_h], axis=1)\n",
        "    new = new.drop([column], axis=1)\n",
        "    return new\n",
        "    \n",
        "\n",
        "def dlcsv(df,name):\n",
        "  df.to_csv('{}.csv'.format(name), index=False)\n",
        "  files.download('{}.csv'.format(name))"
      ],
      "metadata": {
        "id": "yjEthHRqeE75"
      },
      "execution_count": 1,
      "outputs": []
    },
    {
      "cell_type": "code",
      "source": [
        "#combine weather and crime for each year\n",
        "\n",
        "data= []\n",
        "\n",
        "for year in range(2015,2020):\n",
        "  weather = pd.read_csv('https://raw.githubusercontent.com/MattIzon/16010269_DataAnalytics/main/data/w_{}.csv'.format(year)).set_index('date')\n",
        "  crime = pd.read_csv('https://raw.githubusercontent.com/MattIzon/16010269_DataAnalytics/main/data/c_day_{}.csv'.format(year)).set_index('date')\n",
        "  crime.drop('Unnamed: 0', axis=1, inplace=True)\n",
        "  data.append(crime.join(weather).reset_index())"
      ],
      "metadata": {
        "id": "3mcAHm3Srcht"
      },
      "execution_count": 2,
      "outputs": []
    },
    {
      "cell_type": "code",
      "source": [
        "#add year column\n",
        "year = 2015\n",
        "for df in data:\n",
        "  df['year'] = year\n",
        "  year += 1"
      ],
      "metadata": {
        "id": "aIlUq14BVQfj"
      },
      "execution_count": 3,
      "outputs": []
    },
    {
      "cell_type": "code",
      "source": [
        "# Remove outliers in Target (more than 2 standard deviations from mean)\n",
        "adjusted = []\n",
        "\n",
        "for year in range(5):\n",
        "  df = data[year].copy()\n",
        "  upper = df.crime_count.mean() + (2 * df.crime_count.std())\n",
        "  lower = df.crime_count.mean() - (2 * df.crime_count.std())\n",
        "\n",
        "  df.drop(df[df.crime_count > upper].index, inplace=True)\n",
        "  df.drop(df[df.crime_count < lower].index, inplace=True)\n",
        "\n",
        "  adjusted.append(df)"
      ],
      "metadata": {
        "id": "4L-4YnEHlfRy"
      },
      "execution_count": 4,
      "outputs": []
    },
    {
      "cell_type": "code",
      "source": [
        "# Combine all years into single dataset\n",
        "combined = pd.concat(adjusted).reset_index()\n",
        "combined.drop('index', axis=1, inplace=True)"
      ],
      "metadata": {
        "id": "GN-oay1lE5ip"
      },
      "execution_count": 5,
      "outputs": []
    },
    {
      "cell_type": "code",
      "source": [
        "# one hot encode day_of_week\n",
        "days = ['Mon', 'Tue', 'Wed', 'Thu', 'Fri', 'Sat', 'Sun']\n",
        "\n",
        "for index in range(len(days)):\n",
        "  value = index + 1\n",
        "  combined.loc[combined.day_of_week == value, 'day_of_week'] = days[index]\n",
        "\n",
        "combined = one_hot(combined, 'day_of_week')"
      ],
      "metadata": {
        "id": "Noa5klsTjrq1"
      },
      "execution_count": 6,
      "outputs": []
    },
    {
      "cell_type": "code",
      "source": [
        "# one hot encode mo\n",
        "days = ['Jan', 'Feb', 'Mar', 'Apr', 'May', 'Jun', 'Jul', 'Aug', 'Sep', 'Oct', 'Nov', 'Dec']\n",
        "\n",
        "for index in range(len(days)):\n",
        "  value = index + 1\n",
        "  combined.loc[combined.mo == value, 'mo'] = days[index]\n",
        "\n",
        "combined = one_hot(combined, 'mo')"
      ],
      "metadata": {
        "id": "dw5CpeHJoNAE"
      },
      "execution_count": 7,
      "outputs": []
    },
    {
      "cell_type": "code",
      "source": [
        "# Shuffle the dataset\n",
        "rand_combined = combined.iloc[np.random.permutation(len(combined))]"
      ],
      "metadata": {
        "id": "5RW0vy8mV4gC"
      },
      "execution_count": 8,
      "outputs": []
    },
    {
      "cell_type": "code",
      "source": [
        "# Save testing and generic datasets\n",
        "test_size = int(len(rand_combined)*0.01)\n",
        "test_set = rand_combined.iloc[:test_size]\n",
        "dlcsv(test_set, 'DNN_day_test_set')\n",
        "\n",
        "generic_set = rand_combined.iloc[test_size:]\n",
        "dlcsv(generic_set, 'DNN_day_generic_set')"
      ],
      "metadata": {
        "colab": {
          "base_uri": "https://localhost:8080/",
          "height": 17
        },
        "id": "w0RYCfpZWRiS",
        "outputId": "58163391-666e-414a-ff4c-e740447b5c8e"
      },
      "execution_count": 9,
      "outputs": [
        {
          "output_type": "display_data",
          "data": {
            "text/plain": [
              "<IPython.core.display.Javascript object>"
            ],
            "application/javascript": [
              "\n",
              "    async function download(id, filename, size) {\n",
              "      if (!google.colab.kernel.accessAllowed) {\n",
              "        return;\n",
              "      }\n",
              "      const div = document.createElement('div');\n",
              "      const label = document.createElement('label');\n",
              "      label.textContent = `Downloading \"${filename}\": `;\n",
              "      div.appendChild(label);\n",
              "      const progress = document.createElement('progress');\n",
              "      progress.max = size;\n",
              "      div.appendChild(progress);\n",
              "      document.body.appendChild(div);\n",
              "\n",
              "      const buffers = [];\n",
              "      let downloaded = 0;\n",
              "\n",
              "      const channel = await google.colab.kernel.comms.open(id);\n",
              "      // Send a message to notify the kernel that we're ready.\n",
              "      channel.send({})\n",
              "\n",
              "      for await (const message of channel.messages) {\n",
              "        // Send a message to notify the kernel that we're ready.\n",
              "        channel.send({})\n",
              "        if (message.buffers) {\n",
              "          for (const buffer of message.buffers) {\n",
              "            buffers.push(buffer);\n",
              "            downloaded += buffer.byteLength;\n",
              "            progress.value = downloaded;\n",
              "          }\n",
              "        }\n",
              "      }\n",
              "      const blob = new Blob(buffers, {type: 'application/binary'});\n",
              "      const a = document.createElement('a');\n",
              "      a.href = window.URL.createObjectURL(blob);\n",
              "      a.download = filename;\n",
              "      div.appendChild(a);\n",
              "      a.click();\n",
              "      div.remove();\n",
              "    }\n",
              "  "
            ]
          },
          "metadata": {}
        },
        {
          "output_type": "display_data",
          "data": {
            "text/plain": [
              "<IPython.core.display.Javascript object>"
            ],
            "application/javascript": [
              "download(\"download_d20c7c13-2377-4b8d-9d9f-13a7811c9328\", \"DNN_day_test_set.csv\", 3959)"
            ]
          },
          "metadata": {}
        },
        {
          "output_type": "display_data",
          "data": {
            "text/plain": [
              "<IPython.core.display.Javascript object>"
            ],
            "application/javascript": [
              "\n",
              "    async function download(id, filename, size) {\n",
              "      if (!google.colab.kernel.accessAllowed) {\n",
              "        return;\n",
              "      }\n",
              "      const div = document.createElement('div');\n",
              "      const label = document.createElement('label');\n",
              "      label.textContent = `Downloading \"${filename}\": `;\n",
              "      div.appendChild(label);\n",
              "      const progress = document.createElement('progress');\n",
              "      progress.max = size;\n",
              "      div.appendChild(progress);\n",
              "      document.body.appendChild(div);\n",
              "\n",
              "      const buffers = [];\n",
              "      let downloaded = 0;\n",
              "\n",
              "      const channel = await google.colab.kernel.comms.open(id);\n",
              "      // Send a message to notify the kernel that we're ready.\n",
              "      channel.send({})\n",
              "\n",
              "      for await (const message of channel.messages) {\n",
              "        // Send a message to notify the kernel that we're ready.\n",
              "        channel.send({})\n",
              "        if (message.buffers) {\n",
              "          for (const buffer of message.buffers) {\n",
              "            buffers.push(buffer);\n",
              "            downloaded += buffer.byteLength;\n",
              "            progress.value = downloaded;\n",
              "          }\n",
              "        }\n",
              "      }\n",
              "      const blob = new Blob(buffers, {type: 'application/binary'});\n",
              "      const a = document.createElement('a');\n",
              "      a.href = window.URL.createObjectURL(blob);\n",
              "      a.download = filename;\n",
              "      div.appendChild(a);\n",
              "      a.click();\n",
              "      div.remove();\n",
              "    }\n",
              "  "
            ]
          },
          "metadata": {}
        },
        {
          "output_type": "display_data",
          "data": {
            "text/plain": [
              "<IPython.core.display.Javascript object>"
            ],
            "application/javascript": [
              "download(\"download_c1769ddf-ddbb-4675-8a61-7daa5c681cd8\", \"DNN_day_generic_set.csv\", 382977)"
            ]
          },
          "metadata": {}
        }
      ]
    }
  ]
}